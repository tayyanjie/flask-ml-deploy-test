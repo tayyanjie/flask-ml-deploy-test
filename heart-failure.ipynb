{
 "cells": [
  {
   "cell_type": "code",
   "execution_count": 1,
   "metadata": {
    "_cell_guid": "b1076dfc-b9ad-4769-8c92-a6c4dae69d19",
    "_uuid": "8f2839f25d086af736a60e9eeb907d3b93b6e0e5",
    "execution": {
     "iopub.execute_input": "2021-04-05T02:35:41.279382Z",
     "iopub.status.busy": "2021-04-05T02:35:41.278726Z",
     "iopub.status.idle": "2021-04-05T02:35:42.362326Z",
     "shell.execute_reply": "2021-04-05T02:35:42.361386Z"
    },
    "papermill": {
     "duration": 1.127841,
     "end_time": "2021-04-05T02:35:42.362589",
     "exception": false,
     "start_time": "2021-04-05T02:35:41.234748",
     "status": "completed"
    },
    "tags": []
   },
   "outputs": [
    {
     "name": "stdout",
     "output_type": "stream",
     "text": [
      "/kaggle/input/heart-failure-clinical-data/heart_failure_clinical_records_dataset.csv\n"
     ]
    }
   ],
   "source": [
    "# This Python 3 environment comes with many helpful analytics libraries installed\n",
    "# It is defined by the kaggle/python Docker image: https://github.com/kaggle/docker-python\n",
    "# For example, here's several helpful packages to load\n",
    "\n",
    "import numpy as np # linear algebra\n",
    "import pandas as pd # data processing, CSV file I/O (e.g. pd.read_csv)\n",
    "import matplotlib.pyplot as plt\n",
    "%matplotlib inline\n",
    "import seaborn as sns\n",
    "\n",
    "# Input data files are available in the read-only \"../input/\" directory\n",
    "# For example, running this (by clicking run or pressing Shift+Enter) will list all files under the input directory\n",
    "\n",
    "import os\n",
    "for dirname, _, filenames in os.walk('/kaggle/input'):\n",
    "    for filename in filenames:\n",
    "        print(os.path.join(dirname, filename))\n",
    "\n",
    "# You can write up to 20GB to the current directory (/kaggle/working/) that gets preserved as output when you create a version using \"Save & Run All\" \n",
    "# You can also write temporary files to /kaggle/temp/, but they won't be saved outside of the current session"
   ]
  },
  {
   "cell_type": "markdown",
   "metadata": {
    "papermill": {
     "duration": 0.034453,
     "end_time": "2021-04-05T02:35:42.434417",
     "exception": false,
     "start_time": "2021-04-05T02:35:42.399964",
     "status": "completed"
    },
    "tags": []
   },
   "source": [
    "# Load Data"
   ]
  },
  {
   "cell_type": "code",
   "execution_count": 2,
   "metadata": {
    "execution": {
     "iopub.execute_input": "2021-04-05T02:35:42.511097Z",
     "iopub.status.busy": "2021-04-05T02:35:42.509801Z",
     "iopub.status.idle": "2021-04-05T02:35:42.530889Z",
     "shell.execute_reply": "2021-04-05T02:35:42.530324Z"
    },
    "papermill": {
     "duration": 0.060885,
     "end_time": "2021-04-05T02:35:42.531036",
     "exception": false,
     "start_time": "2021-04-05T02:35:42.470151",
     "status": "completed"
    },
    "tags": []
   },
   "outputs": [],
   "source": [
    "data = pd.read_csv(\"/kaggle/input/heart-failure-clinical-data/heart_failure_clinical_records_dataset.csv\")"
   ]
  },
  {
   "cell_type": "code",
   "execution_count": 3,
   "metadata": {
    "execution": {
     "iopub.execute_input": "2021-04-05T02:35:42.620738Z",
     "iopub.status.busy": "2021-04-05T02:35:42.612235Z",
     "iopub.status.idle": "2021-04-05T02:35:42.630287Z",
     "shell.execute_reply": "2021-04-05T02:35:42.630815Z"
    },
    "papermill": {
     "duration": 0.064714,
     "end_time": "2021-04-05T02:35:42.631011",
     "exception": false,
     "start_time": "2021-04-05T02:35:42.566297",
     "status": "completed"
    },
    "tags": []
   },
   "outputs": [
    {
     "data": {
      "text/plain": [
       "age                         float64\n",
       "anaemia                       int64\n",
       "creatinine_phosphokinase      int64\n",
       "diabetes                      int64\n",
       "ejection_fraction             int64\n",
       "high_blood_pressure           int64\n",
       "platelets                   float64\n",
       "serum_creatinine            float64\n",
       "serum_sodium                  int64\n",
       "sex                           int64\n",
       "smoking                       int64\n",
       "time                          int64\n",
       "DEATH_EVENT                   int64\n",
       "dtype: object"
      ]
     },
     "execution_count": 3,
     "metadata": {},
     "output_type": "execute_result"
    }
   ],
   "source": [
    "data.dtypes"
   ]
  },
  {
   "cell_type": "code",
   "execution_count": 4,
   "metadata": {
    "execution": {
     "iopub.execute_input": "2021-04-05T02:35:42.709211Z",
     "iopub.status.busy": "2021-04-05T02:35:42.708301Z",
     "iopub.status.idle": "2021-04-05T02:35:42.711557Z",
     "shell.execute_reply": "2021-04-05T02:35:42.712246Z"
    },
    "papermill": {
     "duration": 0.045746,
     "end_time": "2021-04-05T02:35:42.712452",
     "exception": false,
     "start_time": "2021-04-05T02:35:42.666706",
     "status": "completed"
    },
    "tags": []
   },
   "outputs": [
    {
     "data": {
      "text/plain": [
       "Index(['age', 'anaemia', 'creatinine_phosphokinase', 'diabetes',\n",
       "       'ejection_fraction', 'high_blood_pressure', 'platelets',\n",
       "       'serum_creatinine', 'serum_sodium', 'sex', 'smoking', 'time',\n",
       "       'DEATH_EVENT'],\n",
       "      dtype='object')"
      ]
     },
     "execution_count": 4,
     "metadata": {},
     "output_type": "execute_result"
    }
   ],
   "source": [
    "data.columns"
   ]
  },
  {
   "cell_type": "code",
   "execution_count": 5,
   "metadata": {
    "execution": {
     "iopub.execute_input": "2021-04-05T02:35:42.826290Z",
     "iopub.status.busy": "2021-04-05T02:35:42.825152Z",
     "iopub.status.idle": "2021-04-05T02:35:42.834425Z",
     "shell.execute_reply": "2021-04-05T02:35:42.835231Z"
    },
    "papermill": {
     "duration": 0.06828,
     "end_time": "2021-04-05T02:35:42.835446",
     "exception": false,
     "start_time": "2021-04-05T02:35:42.767166",
     "status": "completed"
    },
    "tags": []
   },
   "outputs": [
    {
     "name": "stdout",
     "output_type": "stream",
     "text": [
      "Categorical Features are: ['anaemia', 'diabetes', 'high_blood_pressure', 'smoking', 'sex']\n",
      "Numerical Features are: ['age', 'creatinine_phosphokinase', 'ejection_fraction', 'platelets', 'serum_creatinine', 'serum_sodium', 'time']\n"
     ]
    }
   ],
   "source": [
    "categorical_features = [\"anaemia\", \"diabetes\", \"high_blood_pressure\", \"smoking\", \"sex\"]\n",
    "y = 'DEATH_EVENT'\n",
    "numerical_features = [feature for feature in data.columns if feature not in categorical_features and feature != y]\n",
    "print(\"Categorical Features are:\", categorical_features)\n",
    "print(\"Numerical Features are:\", numerical_features)"
   ]
  },
  {
   "cell_type": "code",
   "execution_count": 6,
   "metadata": {
    "execution": {
     "iopub.execute_input": "2021-04-05T02:35:42.937319Z",
     "iopub.status.busy": "2021-04-05T02:35:42.936629Z",
     "iopub.status.idle": "2021-04-05T02:35:42.949717Z",
     "shell.execute_reply": "2021-04-05T02:35:42.950440Z"
    },
    "papermill": {
     "duration": 0.058509,
     "end_time": "2021-04-05T02:35:42.950617",
     "exception": false,
     "start_time": "2021-04-05T02:35:42.892108",
     "status": "completed"
    },
    "tags": []
   },
   "outputs": [],
   "source": [
    "# Convert Categorical Features to dtype of category\n",
    "for feature in categorical_features:\n",
    "    data[feature] = data[feature].astype('category')"
   ]
  },
  {
   "cell_type": "code",
   "execution_count": 7,
   "metadata": {
    "execution": {
     "iopub.execute_input": "2021-04-05T02:35:43.032569Z",
     "iopub.status.busy": "2021-04-05T02:35:43.031737Z",
     "iopub.status.idle": "2021-04-05T02:35:43.037537Z",
     "shell.execute_reply": "2021-04-05T02:35:43.036909Z"
    },
    "papermill": {
     "duration": 0.050716,
     "end_time": "2021-04-05T02:35:43.037702",
     "exception": false,
     "start_time": "2021-04-05T02:35:42.986986",
     "status": "completed"
    },
    "tags": []
   },
   "outputs": [
    {
     "data": {
      "text/plain": [
       "age                          float64\n",
       "anaemia                     category\n",
       "creatinine_phosphokinase       int64\n",
       "diabetes                    category\n",
       "ejection_fraction              int64\n",
       "high_blood_pressure         category\n",
       "platelets                    float64\n",
       "serum_creatinine             float64\n",
       "serum_sodium                   int64\n",
       "sex                         category\n",
       "smoking                     category\n",
       "time                           int64\n",
       "DEATH_EVENT                    int64\n",
       "dtype: object"
      ]
     },
     "execution_count": 7,
     "metadata": {},
     "output_type": "execute_result"
    }
   ],
   "source": [
    "data.dtypes"
   ]
  },
  {
   "cell_type": "code",
   "execution_count": 8,
   "metadata": {
    "execution": {
     "iopub.execute_input": "2021-04-05T02:35:43.115207Z",
     "iopub.status.busy": "2021-04-05T02:35:43.114557Z",
     "iopub.status.idle": "2021-04-05T02:35:43.163167Z",
     "shell.execute_reply": "2021-04-05T02:35:43.162547Z"
    },
    "papermill": {
     "duration": 0.088692,
     "end_time": "2021-04-05T02:35:43.163304",
     "exception": false,
     "start_time": "2021-04-05T02:35:43.074612",
     "status": "completed"
    },
    "tags": []
   },
   "outputs": [
    {
     "data": {
      "text/html": [
       "<div>\n",
       "<style scoped>\n",
       "    .dataframe tbody tr th:only-of-type {\n",
       "        vertical-align: middle;\n",
       "    }\n",
       "\n",
       "    .dataframe tbody tr th {\n",
       "        vertical-align: top;\n",
       "    }\n",
       "\n",
       "    .dataframe thead th {\n",
       "        text-align: right;\n",
       "    }\n",
       "</style>\n",
       "<table border=\"1\" class=\"dataframe\">\n",
       "  <thead>\n",
       "    <tr style=\"text-align: right;\">\n",
       "      <th></th>\n",
       "      <th>age</th>\n",
       "      <th>creatinine_phosphokinase</th>\n",
       "      <th>ejection_fraction</th>\n",
       "      <th>platelets</th>\n",
       "      <th>serum_creatinine</th>\n",
       "      <th>serum_sodium</th>\n",
       "      <th>time</th>\n",
       "      <th>DEATH_EVENT</th>\n",
       "    </tr>\n",
       "  </thead>\n",
       "  <tbody>\n",
       "    <tr>\n",
       "      <th>count</th>\n",
       "      <td>299.000000</td>\n",
       "      <td>299.000000</td>\n",
       "      <td>299.000000</td>\n",
       "      <td>299.000000</td>\n",
       "      <td>299.00000</td>\n",
       "      <td>299.000000</td>\n",
       "      <td>299.000000</td>\n",
       "      <td>299.00000</td>\n",
       "    </tr>\n",
       "    <tr>\n",
       "      <th>mean</th>\n",
       "      <td>60.833893</td>\n",
       "      <td>581.839465</td>\n",
       "      <td>38.083612</td>\n",
       "      <td>263358.029264</td>\n",
       "      <td>1.39388</td>\n",
       "      <td>136.625418</td>\n",
       "      <td>130.260870</td>\n",
       "      <td>0.32107</td>\n",
       "    </tr>\n",
       "    <tr>\n",
       "      <th>std</th>\n",
       "      <td>11.894809</td>\n",
       "      <td>970.287881</td>\n",
       "      <td>11.834841</td>\n",
       "      <td>97804.236869</td>\n",
       "      <td>1.03451</td>\n",
       "      <td>4.412477</td>\n",
       "      <td>77.614208</td>\n",
       "      <td>0.46767</td>\n",
       "    </tr>\n",
       "    <tr>\n",
       "      <th>min</th>\n",
       "      <td>40.000000</td>\n",
       "      <td>23.000000</td>\n",
       "      <td>14.000000</td>\n",
       "      <td>25100.000000</td>\n",
       "      <td>0.50000</td>\n",
       "      <td>113.000000</td>\n",
       "      <td>4.000000</td>\n",
       "      <td>0.00000</td>\n",
       "    </tr>\n",
       "    <tr>\n",
       "      <th>25%</th>\n",
       "      <td>51.000000</td>\n",
       "      <td>116.500000</td>\n",
       "      <td>30.000000</td>\n",
       "      <td>212500.000000</td>\n",
       "      <td>0.90000</td>\n",
       "      <td>134.000000</td>\n",
       "      <td>73.000000</td>\n",
       "      <td>0.00000</td>\n",
       "    </tr>\n",
       "    <tr>\n",
       "      <th>50%</th>\n",
       "      <td>60.000000</td>\n",
       "      <td>250.000000</td>\n",
       "      <td>38.000000</td>\n",
       "      <td>262000.000000</td>\n",
       "      <td>1.10000</td>\n",
       "      <td>137.000000</td>\n",
       "      <td>115.000000</td>\n",
       "      <td>0.00000</td>\n",
       "    </tr>\n",
       "    <tr>\n",
       "      <th>75%</th>\n",
       "      <td>70.000000</td>\n",
       "      <td>582.000000</td>\n",
       "      <td>45.000000</td>\n",
       "      <td>303500.000000</td>\n",
       "      <td>1.40000</td>\n",
       "      <td>140.000000</td>\n",
       "      <td>203.000000</td>\n",
       "      <td>1.00000</td>\n",
       "    </tr>\n",
       "    <tr>\n",
       "      <th>max</th>\n",
       "      <td>95.000000</td>\n",
       "      <td>7861.000000</td>\n",
       "      <td>80.000000</td>\n",
       "      <td>850000.000000</td>\n",
       "      <td>9.40000</td>\n",
       "      <td>148.000000</td>\n",
       "      <td>285.000000</td>\n",
       "      <td>1.00000</td>\n",
       "    </tr>\n",
       "  </tbody>\n",
       "</table>\n",
       "</div>"
      ],
      "text/plain": [
       "              age  creatinine_phosphokinase  ejection_fraction      platelets  \\\n",
       "count  299.000000                299.000000         299.000000     299.000000   \n",
       "mean    60.833893                581.839465          38.083612  263358.029264   \n",
       "std     11.894809                970.287881          11.834841   97804.236869   \n",
       "min     40.000000                 23.000000          14.000000   25100.000000   \n",
       "25%     51.000000                116.500000          30.000000  212500.000000   \n",
       "50%     60.000000                250.000000          38.000000  262000.000000   \n",
       "75%     70.000000                582.000000          45.000000  303500.000000   \n",
       "max     95.000000               7861.000000          80.000000  850000.000000   \n",
       "\n",
       "       serum_creatinine  serum_sodium        time  DEATH_EVENT  \n",
       "count         299.00000    299.000000  299.000000    299.00000  \n",
       "mean            1.39388    136.625418  130.260870      0.32107  \n",
       "std             1.03451      4.412477   77.614208      0.46767  \n",
       "min             0.50000    113.000000    4.000000      0.00000  \n",
       "25%             0.90000    134.000000   73.000000      0.00000  \n",
       "50%             1.10000    137.000000  115.000000      0.00000  \n",
       "75%             1.40000    140.000000  203.000000      1.00000  \n",
       "max             9.40000    148.000000  285.000000      1.00000  "
      ]
     },
     "execution_count": 8,
     "metadata": {},
     "output_type": "execute_result"
    }
   ],
   "source": [
    "# Look at summary of data for numerical features\n",
    "data.describe()"
   ]
  },
  {
   "cell_type": "code",
   "execution_count": 9,
   "metadata": {
    "execution": {
     "iopub.execute_input": "2021-04-05T02:35:43.253392Z",
     "iopub.status.busy": "2021-04-05T02:35:43.252698Z",
     "iopub.status.idle": "2021-04-05T02:35:43.296313Z",
     "shell.execute_reply": "2021-04-05T02:35:43.295713Z"
    },
    "papermill": {
     "duration": 0.095982,
     "end_time": "2021-04-05T02:35:43.296467",
     "exception": false,
     "start_time": "2021-04-05T02:35:43.200485",
     "status": "completed"
    },
    "tags": []
   },
   "outputs": [
    {
     "data": {
      "text/html": [
       "<div>\n",
       "<style scoped>\n",
       "    .dataframe tbody tr th:only-of-type {\n",
       "        vertical-align: middle;\n",
       "    }\n",
       "\n",
       "    .dataframe tbody tr th {\n",
       "        vertical-align: top;\n",
       "    }\n",
       "\n",
       "    .dataframe thead th {\n",
       "        text-align: right;\n",
       "    }\n",
       "</style>\n",
       "<table border=\"1\" class=\"dataframe\">\n",
       "  <thead>\n",
       "    <tr style=\"text-align: right;\">\n",
       "      <th></th>\n",
       "      <th>anaemia</th>\n",
       "      <th>diabetes</th>\n",
       "      <th>high_blood_pressure</th>\n",
       "      <th>sex</th>\n",
       "      <th>smoking</th>\n",
       "    </tr>\n",
       "  </thead>\n",
       "  <tbody>\n",
       "    <tr>\n",
       "      <th>count</th>\n",
       "      <td>299</td>\n",
       "      <td>299</td>\n",
       "      <td>299</td>\n",
       "      <td>299</td>\n",
       "      <td>299</td>\n",
       "    </tr>\n",
       "    <tr>\n",
       "      <th>unique</th>\n",
       "      <td>2</td>\n",
       "      <td>2</td>\n",
       "      <td>2</td>\n",
       "      <td>2</td>\n",
       "      <td>2</td>\n",
       "    </tr>\n",
       "    <tr>\n",
       "      <th>top</th>\n",
       "      <td>0</td>\n",
       "      <td>0</td>\n",
       "      <td>0</td>\n",
       "      <td>1</td>\n",
       "      <td>0</td>\n",
       "    </tr>\n",
       "    <tr>\n",
       "      <th>freq</th>\n",
       "      <td>170</td>\n",
       "      <td>174</td>\n",
       "      <td>194</td>\n",
       "      <td>194</td>\n",
       "      <td>203</td>\n",
       "    </tr>\n",
       "  </tbody>\n",
       "</table>\n",
       "</div>"
      ],
      "text/plain": [
       "        anaemia  diabetes  high_blood_pressure  sex  smoking\n",
       "count       299       299                  299  299      299\n",
       "unique        2         2                    2    2        2\n",
       "top           0         0                    0    1        0\n",
       "freq        170       174                  194  194      203"
      ]
     },
     "execution_count": 9,
     "metadata": {},
     "output_type": "execute_result"
    }
   ],
   "source": [
    "# Look at summary of data for categorical features\n",
    "data.describe(include='category')"
   ]
  },
  {
   "cell_type": "markdown",
   "metadata": {
    "papermill": {
     "duration": 0.037644,
     "end_time": "2021-04-05T02:35:43.372316",
     "exception": false,
     "start_time": "2021-04-05T02:35:43.334672",
     "status": "completed"
    },
    "tags": []
   },
   "source": [
    "## Check for Missing Values\n",
    "There are no missing values in the data"
   ]
  },
  {
   "cell_type": "code",
   "execution_count": 10,
   "metadata": {
    "execution": {
     "iopub.execute_input": "2021-04-05T02:35:43.457883Z",
     "iopub.status.busy": "2021-04-05T02:35:43.457238Z",
     "iopub.status.idle": "2021-04-05T02:35:43.460803Z",
     "shell.execute_reply": "2021-04-05T02:35:43.461365Z"
    },
    "papermill": {
     "duration": 0.05113,
     "end_time": "2021-04-05T02:35:43.461570",
     "exception": false,
     "start_time": "2021-04-05T02:35:43.410440",
     "status": "completed"
    },
    "tags": []
   },
   "outputs": [
    {
     "data": {
      "text/plain": [
       "age                         False\n",
       "anaemia                     False\n",
       "creatinine_phosphokinase    False\n",
       "diabetes                    False\n",
       "ejection_fraction           False\n",
       "high_blood_pressure         False\n",
       "platelets                   False\n",
       "serum_creatinine            False\n",
       "serum_sodium                False\n",
       "sex                         False\n",
       "smoking                     False\n",
       "time                        False\n",
       "DEATH_EVENT                 False\n",
       "dtype: bool"
      ]
     },
     "execution_count": 10,
     "metadata": {},
     "output_type": "execute_result"
    }
   ],
   "source": [
    "pd.isnull(data).any()"
   ]
  },
  {
   "cell_type": "markdown",
   "metadata": {
    "papermill": {
     "duration": 0.0381,
     "end_time": "2021-04-05T02:35:43.538410",
     "exception": false,
     "start_time": "2021-04-05T02:35:43.500310",
     "status": "completed"
    },
    "tags": []
   },
   "source": [
    "# Data Visualisation"
   ]
  },
  {
   "cell_type": "markdown",
   "metadata": {
    "papermill": {
     "duration": 0.038841,
     "end_time": "2021-04-05T02:35:43.615340",
     "exception": false,
     "start_time": "2021-04-05T02:35:43.576499",
     "status": "completed"
    },
    "tags": []
   },
   "source": [
    "## Categorical Features"
   ]
  },
  {
   "cell_type": "code",
   "execution_count": 11,
   "metadata": {
    "execution": {
     "iopub.execute_input": "2021-04-05T02:35:43.696208Z",
     "iopub.status.busy": "2021-04-05T02:35:43.695525Z",
     "iopub.status.idle": "2021-04-05T02:35:44.770156Z",
     "shell.execute_reply": "2021-04-05T02:35:44.769592Z"
    },
    "papermill": {
     "duration": 1.115662,
     "end_time": "2021-04-05T02:35:44.770292",
     "exception": false,
     "start_time": "2021-04-05T02:35:43.654630",
     "status": "completed"
    },
    "tags": []
   },
   "outputs": [
    {
     "data": {
      "text/plain": [
       "<seaborn.axisgrid.FacetGrid at 0x7f2672a018d0>"
      ]
     },
     "execution_count": 11,
     "metadata": {},
     "output_type": "execute_result"
    },
    {
     "data": {
      "image/png": "[encoded data removed]",
      "text/plain": [
       "<Figure size 360x360 with 1 Axes>"
      ]
     },
     "metadata": {
      "needs_background": "light"
     },
     "output_type": "display_data"
    },
    {
     "data": {
      "image/png": "[encoded data removed]",
      "text/plain": [
       "<Figure size 360x360 with 1 Axes>"
      ]
     },
     "metadata": {
      "needs_background": "light"
     },
     "output_type": "display_data"
    },
    {
     "data": {
      "image/png": "[encoded data removed]",
      "text/plain": [
       "<Figure size 360x360 with 1 Axes>"
      ]
     },
     "metadata": {
      "needs_background": "light"
     },
     "output_type": "display_data"
    },
    {
     "data": {
      "image/png": "[encoded data removed]",
      "text/plain": [
       "<Figure size 360x360 with 1 Axes>"
      ]
     },
     "metadata": {
      "needs_background": "light"
     },
     "output_type": "display_data"
    },
    {
     "data": {
      "image/png": "[encoded data removed]",
      "text/plain": [
       "<Figure size 360x360 with 1 Axes>"
      ]
     },
     "metadata": {
      "needs_background": "light"
     },
     "output_type": "display_data"
    }
   ],
   "source": [
    "color_palette = [\"tab:green\", \"tab:red\"]\n",
    "sns.catplot(x=\"anaemia\", kind=\"count\", data=data, palette=color_palette)\n",
    "sns.catplot(x=\"diabetes\", kind=\"count\", data=data, palette=color_palette)\n",
    "sns.catplot(x=\"high_blood_pressure\", kind=\"count\", data=data, palette=color_palette)\n",
    "plt.xlabel(\"High Blood Pressure\")\n",
    "sns.catplot(x=\"sex\", kind=\"count\", data=data, palette=color_palette)\n",
    "plt.xticks([0,1], ['Male','Female'])\n",
    "plt.xlabel(\"Gender\")\n",
    "sns.catplot(x=\"smoking\", kind=\"count\", data=data, palette=color_palette)"
   ]
  },
  {
   "cell_type": "markdown",
   "metadata": {
    "papermill": {
     "duration": 0.043215,
     "end_time": "2021-04-05T02:35:44.857281",
     "exception": false,
     "start_time": "2021-04-05T02:35:44.814066",
     "status": "completed"
    },
    "tags": []
   },
   "source": [
    "## Numerical Features"
   ]
  },
  {
   "cell_type": "code",
   "execution_count": 12,
   "metadata": {
    "execution": {
     "iopub.execute_input": "2021-04-05T02:35:44.950335Z",
     "iopub.status.busy": "2021-04-05T02:35:44.949371Z",
     "iopub.status.idle": "2021-04-05T02:35:44.954694Z",
     "shell.execute_reply": "2021-04-05T02:35:44.954172Z"
    },
    "papermill": {
     "duration": 0.053747,
     "end_time": "2021-04-05T02:35:44.954833",
     "exception": false,
     "start_time": "2021-04-05T02:35:44.901086",
     "status": "completed"
    },
    "tags": []
   },
   "outputs": [
    {
     "data": {
      "text/plain": [
       "['age',\n",
       " 'creatinine_phosphokinase',\n",
       " 'ejection_fraction',\n",
       " 'platelets',\n",
       " 'serum_creatinine',\n",
       " 'serum_sodium',\n",
       " 'time']"
      ]
     },
     "execution_count": 12,
     "metadata": {},
     "output_type": "execute_result"
    }
   ],
   "source": [
    "numerical_features"
   ]
  },
  {
   "cell_type": "code",
   "execution_count": 13,
   "metadata": {
    "execution": {
     "iopub.execute_input": "2021-04-05T02:35:45.048738Z",
     "iopub.status.busy": "2021-04-05T02:35:45.048080Z",
     "iopub.status.idle": "2021-04-05T02:35:45.051770Z",
     "shell.execute_reply": "2021-04-05T02:35:45.052334Z"
    },
    "papermill": {
     "duration": 0.054586,
     "end_time": "2021-04-05T02:35:45.052505",
     "exception": false,
     "start_time": "2021-04-05T02:35:44.997919",
     "status": "completed"
    },
    "tags": []
   },
   "outputs": [],
   "source": [
    "def get_age_bin(age):\n",
    "    if 40 <= age < 50:\n",
    "        return \"40-49\"\n",
    "    elif 50 <= age < 59:\n",
    "        return \"50-59\"\n",
    "    elif 60 <= age < 69:\n",
    "        return \"60-69\"\n",
    "    elif 70 <= age < 79:\n",
    "        return \"50-59\"\n",
    "    elif 80 <= age < 89:\n",
    "        return \"80-89\"\n",
    "    else:\n",
    "        return \">= 90\"\n"
   ]
  },
  {
   "cell_type": "code",
   "execution_count": 14,
   "metadata": {
    "execution": {
     "iopub.execute_input": "2021-04-05T02:35:45.146089Z",
     "iopub.status.busy": "2021-04-05T02:35:45.145433Z",
     "iopub.status.idle": "2021-04-05T02:35:45.151190Z",
     "shell.execute_reply": "2021-04-05T02:35:45.150514Z"
    },
    "papermill": {
     "duration": 0.055348,
     "end_time": "2021-04-05T02:35:45.151345",
     "exception": false,
     "start_time": "2021-04-05T02:35:45.095997",
     "status": "completed"
    },
    "tags": []
   },
   "outputs": [],
   "source": [
    "data_copy = data.copy()\n",
    "data_copy[\"age_bins\"] = [get_age_bin(age) for age in data.age]"
   ]
  },
  {
   "cell_type": "code",
   "execution_count": 15,
   "metadata": {
    "execution": {
     "iopub.execute_input": "2021-04-05T02:35:45.263677Z",
     "iopub.status.busy": "2021-04-05T02:35:45.262663Z",
     "iopub.status.idle": "2021-04-05T02:35:45.269167Z",
     "shell.execute_reply": "2021-04-05T02:35:45.268324Z"
    },
    "papermill": {
     "duration": 0.074486,
     "end_time": "2021-04-05T02:35:45.269307",
     "exception": false,
     "start_time": "2021-04-05T02:35:45.194821",
     "status": "completed"
    },
    "tags": []
   },
   "outputs": [
    {
     "data": {
      "text/html": [
       "<div>\n",
       "<style scoped>\n",
       "    .dataframe tbody tr th:only-of-type {\n",
       "        vertical-align: middle;\n",
       "    }\n",
       "\n",
       "    .dataframe tbody tr th {\n",
       "        vertical-align: top;\n",
       "    }\n",
       "\n",
       "    .dataframe thead th {\n",
       "        text-align: right;\n",
       "    }\n",
       "</style>\n",
       "<table border=\"1\" class=\"dataframe\">\n",
       "  <thead>\n",
       "    <tr style=\"text-align: right;\">\n",
       "      <th></th>\n",
       "      <th>age_bins</th>\n",
       "      <th>death_rate</th>\n",
       "    </tr>\n",
       "  </thead>\n",
       "  <tbody>\n",
       "    <tr>\n",
       "      <th>0</th>\n",
       "      <td>40-49</td>\n",
       "      <td>0.234043</td>\n",
       "    </tr>\n",
       "    <tr>\n",
       "      <th>1</th>\n",
       "      <td>50-59</td>\n",
       "      <td>0.286822</td>\n",
       "    </tr>\n",
       "    <tr>\n",
       "      <th>2</th>\n",
       "      <td>60-69</td>\n",
       "      <td>0.277778</td>\n",
       "    </tr>\n",
       "    <tr>\n",
       "      <th>3</th>\n",
       "      <td>80-89</td>\n",
       "      <td>0.684211</td>\n",
       "    </tr>\n",
       "    <tr>\n",
       "      <th>4</th>\n",
       "      <td>&gt;= 90</td>\n",
       "      <td>0.714286</td>\n",
       "    </tr>\n",
       "  </tbody>\n",
       "</table>\n",
       "</div>"
      ],
      "text/plain": [
       "  age_bins  death_rate\n",
       "0    40-49    0.234043\n",
       "1    50-59    0.286822\n",
       "2    60-69    0.277778\n",
       "3    80-89    0.684211\n",
       "4    >= 90    0.714286"
      ]
     },
     "execution_count": 15,
     "metadata": {},
     "output_type": "execute_result"
    }
   ],
   "source": [
    "age_plot = data_copy.groupby('age_bins').agg(death_rate = pd.NamedAgg(column=\"DEATH_EVENT\", aggfunc=np.mean)).reset_index()\n",
    "age_plot"
   ]
  },
  {
   "cell_type": "code",
   "execution_count": 16,
   "metadata": {
    "execution": {
     "iopub.execute_input": "2021-04-05T02:35:45.397906Z",
     "iopub.status.busy": "2021-04-05T02:35:45.394303Z",
     "iopub.status.idle": "2021-04-05T02:35:45.566722Z",
     "shell.execute_reply": "2021-04-05T02:35:45.565920Z"
    },
    "papermill": {
     "duration": 0.253558,
     "end_time": "2021-04-05T02:35:45.566922",
     "exception": false,
     "start_time": "2021-04-05T02:35:45.313364",
     "status": "completed"
    },
    "tags": []
   },
   "outputs": [
    {
     "data": {
      "image/png": "[encoded data removed]",
      "text/plain": [
       "<Figure size 432x432 with 1 Axes>"
      ]
     },
     "metadata": {},
     "output_type": "display_data"
    }
   ],
   "source": [
    "plt.rcParams['figure.figsize']=(6,6)\n",
    "sns.set(style='whitegrid', rc={\"grid.linewidth\": 0.1})\n",
    "sns.set_context(\"paper\", font_scale=1.5) \n",
    "age_barplot = sns.barplot(x=\"age_bins\", y=\"death_rate\",data=age_plot)\n",
    "for index, row in age_plot.iterrows():\n",
    "    age_barplot.text(row.name, row.death_rate, round(row.death_rate,4), color=\"black\", ha=\"center\")"
   ]
  },
  {
   "cell_type": "markdown",
   "metadata": {
    "papermill": {
     "duration": 0.068269,
     "end_time": "2021-04-05T02:35:45.704231",
     "exception": false,
     "start_time": "2021-04-05T02:35:45.635962",
     "status": "completed"
    },
    "tags": []
   },
   "source": [
    "# Model Training"
   ]
  },
  {
   "cell_type": "markdown",
   "metadata": {
    "papermill": {
     "duration": 0.067165,
     "end_time": "2021-04-05T02:35:45.838926",
     "exception": false,
     "start_time": "2021-04-05T02:35:45.771761",
     "status": "completed"
    },
    "tags": []
   },
   "source": [
    "## Check for data balance"
   ]
  },
  {
   "cell_type": "code",
   "execution_count": 17,
   "metadata": {
    "execution": {
     "iopub.execute_input": "2021-04-05T02:35:45.992133Z",
     "iopub.status.busy": "2021-04-05T02:35:45.990828Z",
     "iopub.status.idle": "2021-04-05T02:35:46.102156Z",
     "shell.execute_reply": "2021-04-05T02:35:46.102798Z"
    },
    "papermill": {
     "duration": 0.194435,
     "end_time": "2021-04-05T02:35:46.103003",
     "exception": false,
     "start_time": "2021-04-05T02:35:45.908568",
     "status": "completed"
    },
    "tags": []
   },
   "outputs": [
    {
     "data": {
      "text/plain": [
       "<AxesSubplot:ylabel='Count'>"
      ]
     },
     "execution_count": 17,
     "metadata": {},
     "output_type": "execute_result"
    },
    {
     "data": {
      "image/png": "[encoded data removed]",
      "text/plain": [
       "<Figure size 432x432 with 1 Axes>"
      ]
     },
     "metadata": {},
     "output_type": "display_data"
    }
   ],
   "source": [
    "data_copy.insert(0, \"Count\", len(data.index)*[1])\n",
    "data_copy.replace({0:\"No Death\", 1:\"Death\"}).groupby(\"DEATH_EVENT\")['Count'].count().plot.pie(autopct=\"%.1f%%\")"
   ]
  },
  {
   "cell_type": "markdown",
   "metadata": {
    "papermill": {
     "duration": 0.046362,
     "end_time": "2021-04-05T02:35:46.195755",
     "exception": false,
     "start_time": "2021-04-05T02:35:46.149393",
     "status": "completed"
    },
    "tags": []
   },
   "source": [
    "32.1% of the data have outcome of death, so data might not be very balanced"
   ]
  },
  {
   "cell_type": "markdown",
   "metadata": {
    "papermill": {
     "duration": 0.046276,
     "end_time": "2021-04-05T02:35:46.288760",
     "exception": false,
     "start_time": "2021-04-05T02:35:46.242484",
     "status": "completed"
    },
    "tags": []
   },
   "source": [
    "## Train-Test Split"
   ]
  },
  {
   "cell_type": "code",
   "execution_count": 18,
   "metadata": {
    "execution": {
     "iopub.execute_input": "2021-04-05T02:35:46.385219Z",
     "iopub.status.busy": "2021-04-05T02:35:46.384606Z",
     "iopub.status.idle": "2021-04-05T02:35:46.683491Z",
     "shell.execute_reply": "2021-04-05T02:35:46.684055Z"
    },
    "papermill": {
     "duration": 0.348561,
     "end_time": "2021-04-05T02:35:46.684226",
     "exception": false,
     "start_time": "2021-04-05T02:35:46.335665",
     "status": "completed"
    },
    "tags": []
   },
   "outputs": [],
   "source": [
    "from sklearn.model_selection import train_test_split"
   ]
  },
  {
   "cell_type": "code",
   "execution_count": 19,
   "metadata": {
    "execution": {
     "iopub.execute_input": "2021-04-05T02:35:46.784228Z",
     "iopub.status.busy": "2021-04-05T02:35:46.783573Z",
     "iopub.status.idle": "2021-04-05T02:35:46.794099Z",
     "shell.execute_reply": "2021-04-05T02:35:46.793399Z"
    },
    "papermill": {
     "duration": 0.063658,
     "end_time": "2021-04-05T02:35:46.794249",
     "exception": false,
     "start_time": "2021-04-05T02:35:46.730591",
     "status": "completed"
    },
    "tags": []
   },
   "outputs": [],
   "source": [
    "y = data.DEATH_EVENT\n",
    "x = data.drop(\"DEATH_EVENT\", axis=1)\n",
    "x_train, x_test, y_train, y_test = train_test_split(x, y, test_size=0.3, random_state = 340)"
   ]
  },
  {
   "cell_type": "markdown",
   "metadata": {
    "papermill": {
     "duration": 0.04632,
     "end_time": "2021-04-05T02:35:46.887674",
     "exception": false,
     "start_time": "2021-04-05T02:35:46.841354",
     "status": "completed"
    },
    "tags": []
   },
   "source": [
    "## Helper functions for Model Training"
   ]
  },
  {
   "cell_type": "code",
   "execution_count": 20,
   "metadata": {
    "execution": {
     "iopub.execute_input": "2021-04-05T02:35:46.987320Z",
     "iopub.status.busy": "2021-04-05T02:35:46.986670Z",
     "iopub.status.idle": "2021-04-05T02:35:47.008258Z",
     "shell.execute_reply": "2021-04-05T02:35:47.007606Z"
    },
    "papermill": {
     "duration": 0.072573,
     "end_time": "2021-04-05T02:35:47.008403",
     "exception": false,
     "start_time": "2021-04-05T02:35:46.935830",
     "status": "completed"
    },
    "tags": []
   },
   "outputs": [],
   "source": [
    "from sklearn.compose import ColumnTransformer\n",
    "from sklearn.preprocessing import OneHotEncoder\n",
    "from sklearn.preprocessing import StandardScaler\n",
    "from sklearn.pipeline import Pipeline\n",
    "from sklearn.metrics import confusion_matrix\n",
    "from sklearn.metrics import accuracy_score\n",
    "from sklearn.metrics import balanced_accuracy_score\n",
    "from sklearn.metrics import recall_score\n",
    "from sklearn.metrics import plot_confusion_matrix\n",
    "from sklearn.model_selection import GridSearchCV"
   ]
  },
  {
   "cell_type": "code",
   "execution_count": 21,
   "metadata": {
    "execution": {
     "iopub.execute_input": "2021-04-05T02:35:47.108150Z",
     "iopub.status.busy": "2021-04-05T02:35:47.107477Z",
     "iopub.status.idle": "2021-04-05T02:35:47.112206Z",
     "shell.execute_reply": "2021-04-05T02:35:47.111505Z"
    },
    "papermill": {
     "duration": 0.057237,
     "end_time": "2021-04-05T02:35:47.112368",
     "exception": false,
     "start_time": "2021-04-05T02:35:47.055131",
     "status": "completed"
    },
    "tags": []
   },
   "outputs": [],
   "source": [
    "sns.set(style='white')"
   ]
  },
  {
   "cell_type": "code",
   "execution_count": 22,
   "metadata": {
    "execution": {
     "iopub.execute_input": "2021-04-05T02:35:47.222639Z",
     "iopub.status.busy": "2021-04-05T02:35:47.217137Z",
     "iopub.status.idle": "2021-04-05T02:35:47.225534Z",
     "shell.execute_reply": "2021-04-05T02:35:47.226125Z"
    },
    "papermill": {
     "duration": 0.066173,
     "end_time": "2021-04-05T02:35:47.226309",
     "exception": false,
     "start_time": "2021-04-05T02:35:47.160136",
     "status": "completed"
    },
    "tags": []
   },
   "outputs": [],
   "source": [
    "def create_pipeline(model):\n",
    "    categorical_transformer = OneHotEncoder(handle_unknown='ignore')\n",
    "    numeric_transformer = StandardScaler()\n",
    "    preprocessor = ColumnTransformer(\n",
    "        transformers=[\n",
    "            ('num', numeric_transformer, numerical_features),\n",
    "            ('cat', categorical_transformer, categorical_features)])\n",
    "    clf = Pipeline(steps=[('preprocessor', preprocessor),\n",
    "                          ('classifier', model)])\n",
    "    return clf\n",
    "\n",
    "def confusion_matrix_scorer(y, y_pred):\n",
    "    cm = confusion_matrix(y, y_pred)\n",
    "    return {'tn': cm[0, 0], 'fp': cm[0, 1],\n",
    "             'fn': cm[1, 0], 'tp': cm[1, 1]}\n",
    "\n",
    "def evaluate_results(y_test, y_pred):\n",
    "    cm = confusion_matrix_scorer(y_test, y_pred)\n",
    "    bal_acc = balanced_accuracy_score(y_test, y_pred)\n",
    "    acc = accuracy_score(y_test, y_pred)\n",
    "    rec = recall_score(y_test, y_pred)\n",
    "    print(f\"Number of True Positives: {cm['tp']}\\nNumber of False Positives: {cm['fp']}\\nNumber of True Negatives: {cm['tn']}\\\n",
    "    \\nNumber of False Negatives: {cm['fn']}\")\n",
    "    print(\"Accuracy Score: %0.4f\" % acc)\n",
    "    print(\"Balanced Accuracy Score: %0.4f\" % bal_acc)\n",
    "    print(\"Recall Score: %0.4f\" % rec)\n",
    "    return{\"bal_acc\":bal_acc, \"acc\":acc, \"recall\":rec}\n",
    "\n",
    "def evaluate(model):\n",
    "    print(\"Model Evaluation on Train Set\")\n",
    "    y_t_pred = model.predict(x_train)\n",
    "    evaluate_results(y_train, y_t_pred)\n",
    "    plot_confusion_matrix(model, x_train, y_train, normalize=\"true\")\n",
    "    plt.title(\"Confusion Matrix for Train Set\")\n",
    "    print(\"-----------------------------------\")\n",
    "    print(\"Model Evaluation on Test Set\")\n",
    "    y_pred = model.predict(x_test)\n",
    "    scores = evaluate_results(y_test, y_pred)\n",
    "    plot_confusion_matrix(model, x_test, y_test, normalize=\"true\")\n",
    "    plt.title(\"Confusion Matrix for Test Set\")\n",
    "    return scores\n",
    "\n",
    "def SearchParams(model, params, score = \"recall\", verbose=3):\n",
    "    '''Takes in model, params (dict of parameters for grid serach), score - the scoring method\n",
    "    and returns the gridsearchobject'''\n",
    "    pipe = create_pipeline(model)\n",
    "    search = GridSearchCV(pipe, params, n_jobs=-1, scoring=score, verbose=verbose)\n",
    "    search.fit(x_train,y_train)\n",
    "    print(\"The best mean %s score is %.4f\" % (score, search.best_score_))\n",
    "    print(\"The best parameters are:\", search.best_params_)\n",
    "    scores = evaluate(search.best_estimator_)\n",
    "    return (search, scores)"
   ]
  },
  {
   "cell_type": "markdown",
   "metadata": {
    "papermill": {
     "duration": 0.046387,
     "end_time": "2021-04-05T02:35:47.319499",
     "exception": false,
     "start_time": "2021-04-05T02:35:47.273112",
     "status": "completed"
    },
    "tags": []
   },
   "source": [
    "## Naive Bayes"
   ]
  },
  {
   "cell_type": "code",
   "execution_count": 23,
   "metadata": {
    "execution": {
     "iopub.execute_input": "2021-04-05T02:35:47.416793Z",
     "iopub.status.busy": "2021-04-05T02:35:47.416143Z",
     "iopub.status.idle": "2021-04-05T02:35:47.422665Z",
     "shell.execute_reply": "2021-04-05T02:35:47.423204Z"
    },
    "papermill": {
     "duration": 0.056629,
     "end_time": "2021-04-05T02:35:47.423384",
     "exception": false,
     "start_time": "2021-04-05T02:35:47.366755",
     "status": "completed"
    },
    "tags": []
   },
   "outputs": [],
   "source": [
    "from sklearn.naive_bayes import GaussianNB"
   ]
  },
  {
   "cell_type": "code",
   "execution_count": 24,
   "metadata": {
    "execution": {
     "iopub.execute_input": "2021-04-05T02:35:47.535537Z",
     "iopub.status.busy": "2021-04-05T02:35:47.534881Z",
     "iopub.status.idle": "2021-04-05T02:35:47.548698Z",
     "shell.execute_reply": "2021-04-05T02:35:47.548033Z"
    },
    "papermill": {
     "duration": 0.077696,
     "end_time": "2021-04-05T02:35:47.548838",
     "exception": false,
     "start_time": "2021-04-05T02:35:47.471142",
     "status": "completed"
    },
    "tags": []
   },
   "outputs": [],
   "source": [
    "model_NB = create_pipeline(GaussianNB())\n",
    "model_NB.fit(x_train, y_train)\n",
    "y_pred = model_NB.predict(x_test)"
   ]
  },
  {
   "cell_type": "code",
   "execution_count": 25,
   "metadata": {
    "execution": {
     "iopub.execute_input": "2021-04-05T02:35:47.662256Z",
     "iopub.status.busy": "2021-04-05T02:35:47.656275Z",
     "iopub.status.idle": "2021-04-05T02:35:48.225338Z",
     "shell.execute_reply": "2021-04-05T02:35:48.224754Z"
    },
    "papermill": {
     "duration": 0.628425,
     "end_time": "2021-04-05T02:35:48.225476",
     "exception": false,
     "start_time": "2021-04-05T02:35:47.597051",
     "status": "completed"
    },
    "tags": []
   },
   "outputs": [
    {
     "name": "stdout",
     "output_type": "stream",
     "text": [
      "Model Evaluation on Train Set\n",
      "Number of True Positives: 38\n",
      "Number of False Positives: 13\n",
      "Number of True Negatives: 127    \n",
      "Number of False Negatives: 31\n",
      "Accuracy Score: 0.7895\n",
      "Balanced Accuracy Score: 0.7289\n",
      "Recall Score: 0.5507\n",
      "-----------------------------------\n",
      "Model Evaluation on Test Set\n",
      "Number of True Positives: 12\n",
      "Number of False Positives: 4\n",
      "Number of True Negatives: 59    \n",
      "Number of False Negatives: 15\n",
      "Accuracy Score: 0.7889\n",
      "Balanced Accuracy Score: 0.6905\n",
      "Recall Score: 0.4444\n"
     ]
    },
    {
     "data": {
      "image/png": "[encoded data removed]",
      "text/plain": [
       "<Figure size 432x432 with 2 Axes>"
      ]
     },
     "metadata": {},
     "output_type": "display_data"
    },
    {
     "data": {
      "image/png": "[encoded data removed]",
      "text/plain": [
       "<Figure size 432x432 with 2 Axes>"
      ]
     },
     "metadata": {},
     "output_type": "display_data"
    }
   ],
   "source": [
    "scores_NB = evaluate(model_NB)"
   ]
  },
  {
   "cell_type": "markdown",
   "metadata": {
    "papermill": {
     "duration": 0.049356,
     "end_time": "2021-04-05T02:35:48.324545",
     "exception": false,
     "start_time": "2021-04-05T02:35:48.275189",
     "status": "completed"
    },
    "tags": []
   },
   "source": [
    "## Support Vector Machines"
   ]
  },
  {
   "cell_type": "code",
   "execution_count": 26,
   "metadata": {
    "execution": {
     "iopub.execute_input": "2021-04-05T02:35:48.430897Z",
     "iopub.status.busy": "2021-04-05T02:35:48.429950Z",
     "iopub.status.idle": "2021-04-05T02:35:48.560144Z",
     "shell.execute_reply": "2021-04-05T02:35:48.559317Z"
    },
    "papermill": {
     "duration": 0.185947,
     "end_time": "2021-04-05T02:35:48.560322",
     "exception": false,
     "start_time": "2021-04-05T02:35:48.374375",
     "status": "completed"
    },
    "tags": []
   },
   "outputs": [],
   "source": [
    "from sklearn.linear_model import SGDClassifier\n",
    "from sklearn.svm import SVC"
   ]
  },
  {
   "cell_type": "code",
   "execution_count": 27,
   "metadata": {
    "execution": {
     "iopub.execute_input": "2021-04-05T02:35:48.684822Z",
     "iopub.status.busy": "2021-04-05T02:35:48.683444Z",
     "iopub.status.idle": "2021-04-05T02:35:58.227040Z",
     "shell.execute_reply": "2021-04-05T02:35:58.226344Z"
    },
    "papermill": {
     "duration": 9.603797,
     "end_time": "2021-04-05T02:35:58.227186",
     "exception": false,
     "start_time": "2021-04-05T02:35:48.623389",
     "status": "completed"
    },
    "tags": []
   },
   "outputs": [
    {
     "name": "stdout",
     "output_type": "stream",
     "text": [
      "Fitting 5 folds for each of 140 candidates, totalling 700 fits\n",
      "The best mean recall score is 0.6374\n",
      "The best parameters are: {'classifier__C': 1.3, 'classifier__kernel': 'sigmoid', 'classifier__tol': 0.01}\n",
      "Model Evaluation on Train Set\n",
      "Number of True Positives: 41\n",
      "Number of False Positives: 22\n",
      "Number of True Negatives: 118    \n",
      "Number of False Negatives: 28\n",
      "Accuracy Score: 0.7608\n",
      "Balanced Accuracy Score: 0.7185\n",
      "Recall Score: 0.5942\n",
      "-----------------------------------\n",
      "Model Evaluation on Test Set\n",
      "Number of True Positives: 20\n",
      "Number of False Positives: 7\n",
      "Number of True Negatives: 56    \n",
      "Number of False Negatives: 7\n",
      "Accuracy Score: 0.8444\n",
      "Balanced Accuracy Score: 0.8148\n",
      "Recall Score: 0.7407\n"
     ]
    },
    {
     "data": {
      "image/png": "[encoded data removed]",
      "text/plain": [
       "<Figure size 432x432 with 2 Axes>"
      ]
     },
     "metadata": {},
     "output_type": "display_data"
    },
    {
     "data": {
      "image/png": "[encoded data removed]",
      "text/plain": [
       "<Figure size 432x432 with 2 Axes>"
      ]
     },
     "metadata": {},
     "output_type": "display_data"
    }
   ],
   "source": [
    "parameters = {'classifier__kernel':('linear', 'poly', 'rbf', 'sigmoid'),\n",
    "              'classifier__C':(2,1.5,1.3,1.2,1.1,1, 0.1), 'classifier__tol':(0.1, 0.01, 0.001, 0.0001, 0.00001)}\n",
    "model_svm, scores_svm = SearchParams(SVC(random_state=41), parameters)"
   ]
  },
  {
   "cell_type": "code",
   "execution_count": 28,
   "metadata": {
    "execution": {
     "iopub.execute_input": "2021-04-05T02:35:58.342953Z",
     "iopub.status.busy": "2021-04-05T02:35:58.342238Z",
     "iopub.status.idle": "2021-04-05T02:35:59.898375Z",
     "shell.execute_reply": "2021-04-05T02:35:59.899064Z"
    },
    "papermill": {
     "duration": 1.619274,
     "end_time": "2021-04-05T02:35:59.899298",
     "exception": false,
     "start_time": "2021-04-05T02:35:58.280024",
     "status": "completed"
    },
    "tags": []
   },
   "outputs": [
    {
     "name": "stdout",
     "output_type": "stream",
     "text": [
      "Fitting 5 folds for each of 15 candidates, totalling 75 fits\n",
      "The best mean recall score is 0.7670\n",
      "The best parameters are: {'classifier__alpha': 0.0001, 'classifier__tol': 0.01}\n",
      "Model Evaluation on Train Set\n",
      "Number of True Positives: 57\n",
      "Number of False Positives: 37\n",
      "Number of True Negatives: 103    \n",
      "Number of False Negatives: 12\n",
      "Accuracy Score: 0.7656\n",
      "Balanced Accuracy Score: 0.7809\n",
      "Recall Score: 0.8261\n",
      "-----------------------------------\n",
      "Model Evaluation on Test Set\n",
      "Number of True Positives: 23\n",
      "Number of False Positives: 10\n",
      "Number of True Negatives: 53    \n",
      "Number of False Negatives: 4\n",
      "Accuracy Score: 0.8444\n",
      "Balanced Accuracy Score: 0.8466\n",
      "Recall Score: 0.8519\n"
     ]
    },
    {
     "data": {
      "image/png": "[encoded data removed]",
      "text/plain": [
       "<Figure size 432x432 with 2 Axes>"
      ]
     },
     "metadata": {},
     "output_type": "display_data"
    },
    {
     "data": {
      "image/png": "[encoded data removed]",
      "text/plain": [
       "<Figure size 432x432 with 2 Axes>"
      ]
     },
     "metadata": {},
     "output_type": "display_data"
    }
   ],
   "source": [
    "parameters = {'classifier__alpha':(0.0001, 0.001, 0.01), 'classifier__tol':(0.1,0.01,0.001, 0.0001, 0.00001)}\n",
    "model_svm, scores_svm = SearchParams(SGDClassifier(random_state=41), parameters)"
   ]
  },
  {
   "cell_type": "markdown",
   "metadata": {
    "papermill": {
     "duration": 0.082129,
     "end_time": "2021-04-05T02:36:00.063611",
     "exception": false,
     "start_time": "2021-04-05T02:35:59.981482",
     "status": "completed"
    },
    "tags": []
   },
   "source": [
    "Stochastic Gradient Descent Method performs better than SVC in optimising SVM"
   ]
  },
  {
   "cell_type": "markdown",
   "metadata": {
    "papermill": {
     "duration": 0.081444,
     "end_time": "2021-04-05T02:36:00.227418",
     "exception": false,
     "start_time": "2021-04-05T02:36:00.145974",
     "status": "completed"
    },
    "tags": []
   },
   "source": [
    "## Logistic Regression"
   ]
  },
  {
   "cell_type": "code",
   "execution_count": 29,
   "metadata": {
    "execution": {
     "iopub.execute_input": "2021-04-05T02:36:00.398490Z",
     "iopub.status.busy": "2021-04-05T02:36:00.397626Z",
     "iopub.status.idle": "2021-04-05T02:36:00.401388Z",
     "shell.execute_reply": "2021-04-05T02:36:00.400900Z"
    },
    "papermill": {
     "duration": 0.091443,
     "end_time": "2021-04-05T02:36:00.401503",
     "exception": false,
     "start_time": "2021-04-05T02:36:00.310060",
     "status": "completed"
    },
    "tags": []
   },
   "outputs": [],
   "source": [
    "from sklearn.linear_model import LogisticRegression"
   ]
  },
  {
   "cell_type": "code",
   "execution_count": 30,
   "metadata": {
    "execution": {
     "iopub.execute_input": "2021-04-05T02:36:00.507290Z",
     "iopub.status.busy": "2021-04-05T02:36:00.506347Z",
     "iopub.status.idle": "2021-04-05T02:36:03.392903Z",
     "shell.execute_reply": "2021-04-05T02:36:03.392358Z"
    },
    "papermill": {
     "duration": 2.949225,
     "end_time": "2021-04-05T02:36:03.393041",
     "exception": false,
     "start_time": "2021-04-05T02:36:00.443816",
     "status": "completed"
    },
    "tags": []
   },
   "outputs": [
    {
     "name": "stdout",
     "output_type": "stream",
     "text": [
      "Fitting 5 folds for each of 40 candidates, totalling 200 fits\n",
      "The best mean recall score is 0.6505\n",
      "The best parameters are: {'classifier__C': 1, 'classifier__tol': 0.1}\n",
      "Model Evaluation on Train Set\n",
      "Number of True Positives: 47\n",
      "Number of False Positives: 15\n",
      "Number of True Negatives: 125    \n",
      "Number of False Negatives: 22\n",
      "Accuracy Score: 0.8230\n",
      "Balanced Accuracy Score: 0.7870\n",
      "Recall Score: 0.6812\n",
      "-----------------------------------\n",
      "Model Evaluation on Test Set\n",
      "Number of True Positives: 17\n",
      "Number of False Positives: 4\n",
      "Number of True Negatives: 59    \n",
      "Number of False Negatives: 10\n",
      "Accuracy Score: 0.8444\n",
      "Balanced Accuracy Score: 0.7831\n",
      "Recall Score: 0.6296\n"
     ]
    },
    {
     "data": {
      "image/png": "[encoded data removed]",
      "text/plain": [
       "<Figure size 432x432 with 2 Axes>"
      ]
     },
     "metadata": {},
     "output_type": "display_data"
    },
    {
     "data": {
      "image/png": "[encoded data removed]",
      "text/plain": [
       "<Figure size 432x432 with 2 Axes>"
      ]
     },
     "metadata": {},
     "output_type": "display_data"
    }
   ],
   "source": [
    "parameters = {'classifier__C':(0.1, 0.5, 1, 1.1, 1.2, 1.3, 1.4, 1.5), 'classifier__tol':(0.1,0.01,0.001, 0.0001, 0.00001)}\n",
    "model_LR, scores_LR = SearchParams(LogisticRegression(random_state=41), parameters)"
   ]
  },
  {
   "cell_type": "markdown",
   "metadata": {
    "papermill": {
     "duration": 0.059639,
     "end_time": "2021-04-05T02:36:03.511442",
     "exception": false,
     "start_time": "2021-04-05T02:36:03.451803",
     "status": "completed"
    },
    "tags": []
   },
   "source": [
    "## K Nearest Neighbors"
   ]
  },
  {
   "cell_type": "code",
   "execution_count": 31,
   "metadata": {
    "execution": {
     "iopub.execute_input": "2021-04-05T02:36:03.636299Z",
     "iopub.status.busy": "2021-04-05T02:36:03.635657Z",
     "iopub.status.idle": "2021-04-05T02:36:03.734588Z",
     "shell.execute_reply": "2021-04-05T02:36:03.735117Z"
    },
    "papermill": {
     "duration": 0.16406,
     "end_time": "2021-04-05T02:36:03.735293",
     "exception": false,
     "start_time": "2021-04-05T02:36:03.571233",
     "status": "completed"
    },
    "tags": []
   },
   "outputs": [],
   "source": [
    "from sklearn.neighbors import KNeighborsClassifier"
   ]
  },
  {
   "cell_type": "code",
   "execution_count": 32,
   "metadata": {
    "execution": {
     "iopub.execute_input": "2021-04-05T02:36:03.859070Z",
     "iopub.status.busy": "2021-04-05T02:36:03.858395Z",
     "iopub.status.idle": "2021-04-05T02:36:05.110124Z",
     "shell.execute_reply": "2021-04-05T02:36:05.109264Z"
    },
    "papermill": {
     "duration": 1.31516,
     "end_time": "2021-04-05T02:36:05.110269",
     "exception": false,
     "start_time": "2021-04-05T02:36:03.795109",
     "status": "completed"
    },
    "tags": []
   },
   "outputs": [
    {
     "name": "stdout",
     "output_type": "stream",
     "text": [
      "Fitting 5 folds for each of 10 candidates, totalling 50 fits\n",
      "The best mean recall score is 0.3912\n",
      "The best parameters are: {'classifier__n_neighbors': 7}\n",
      "Model Evaluation on Train Set\n",
      "Number of True Positives: 32\n",
      "Number of False Positives: 3\n",
      "Number of True Negatives: 137    \n",
      "Number of False Negatives: 37\n",
      "Accuracy Score: 0.8086\n",
      "Balanced Accuracy Score: 0.7212\n",
      "Recall Score: 0.4638\n",
      "-----------------------------------\n",
      "Model Evaluation on Test Set\n",
      "Number of True Positives: 9\n",
      "Number of False Positives: 4\n",
      "Number of True Negatives: 59    \n",
      "Number of False Negatives: 18\n",
      "Accuracy Score: 0.7556\n",
      "Balanced Accuracy Score: 0.6349\n",
      "Recall Score: 0.3333\n"
     ]
    },
    {
     "data": {
      "image/png": "[encoded data removed]",
      "text/plain": [
       "<Figure size 432x432 with 2 Axes>"
      ]
     },
     "metadata": {},
     "output_type": "display_data"
    },
    {
     "data": {
      "image/png": "[encoded data removed]",
      "text/plain": [
       "<Figure size 432x432 with 2 Axes>"
      ]
     },
     "metadata": {},
     "output_type": "display_data"
    }
   ],
   "source": [
    "model_knn, scores_knn = SearchParams(KNeighborsClassifier(), {'classifier__n_neighbors':tuple(range(3,22,2))})"
   ]
  },
  {
   "cell_type": "code",
   "execution_count": 33,
   "metadata": {
    "execution": {
     "iopub.execute_input": "2021-04-05T02:36:05.242608Z",
     "iopub.status.busy": "2021-04-05T02:36:05.241464Z",
     "iopub.status.idle": "2021-04-05T02:36:05.246419Z",
     "shell.execute_reply": "2021-04-05T02:36:05.245580Z"
    },
    "papermill": {
     "duration": 0.074184,
     "end_time": "2021-04-05T02:36:05.246588",
     "exception": false,
     "start_time": "2021-04-05T02:36:05.172404",
     "status": "completed"
    },
    "tags": []
   },
   "outputs": [
    {
     "name": "stdout",
     "output_type": "stream",
     "text": [
      "knn: {'bal_acc': 0.6349206349206349, 'acc': 0.7555555555555555, 'recall': 0.3333333333333333}\n",
      "NB: {'bal_acc': 0.6904761904761905, 'acc': 0.7888888888888889, 'recall': 0.4444444444444444}\n",
      "svm: {'bal_acc': 0.8465608465608465, 'acc': 0.8444444444444444, 'recall': 0.8518518518518519}\n",
      "LR: {'bal_acc': 0.783068783068783, 'acc': 0.8444444444444444, 'recall': 0.6296296296296297}\n"
     ]
    }
   ],
   "source": [
    "models = ['knn', 'NB', 'svm', 'LR']\n",
    "final_models = []\n",
    "for model in models:\n",
    "    print(model +':', globals()['scores_'+model])\n",
    "    if model != \"NB\":\n",
    "        final_models.append(globals()['model_'+model])"
   ]
  },
  {
   "cell_type": "markdown",
   "metadata": {
    "papermill": {
     "duration": 0.089873,
     "end_time": "2021-04-05T02:36:05.426828",
     "exception": false,
     "start_time": "2021-04-05T02:36:05.336955",
     "status": "completed"
    },
    "tags": []
   },
   "source": [
    "SVM appears to perform the best."
   ]
  },
  {
   "cell_type": "markdown",
   "metadata": {
    "papermill": {
     "duration": 0.090977,
     "end_time": "2021-04-05T02:36:05.608259",
     "exception": false,
     "start_time": "2021-04-05T02:36:05.517282",
     "status": "completed"
    },
    "tags": []
   },
   "source": [
    "## Neural Network"
   ]
  },
  {
   "cell_type": "code",
   "execution_count": 34,
   "metadata": {
    "execution": {
     "iopub.execute_input": "2021-04-05T02:36:05.797298Z",
     "iopub.status.busy": "2021-04-05T02:36:05.796287Z",
     "iopub.status.idle": "2021-04-05T02:36:13.152303Z",
     "shell.execute_reply": "2021-04-05T02:36:13.151503Z"
    },
    "papermill": {
     "duration": 7.452382,
     "end_time": "2021-04-05T02:36:13.152478",
     "exception": false,
     "start_time": "2021-04-05T02:36:05.700096",
     "status": "completed"
    },
    "tags": []
   },
   "outputs": [],
   "source": [
    "import tensorflow as tf\n",
    "from keras import Sequential\n",
    "from keras import layers\n",
    "from keras.optimizers import SGD\n",
    "from tensorflow.keras import regularizers"
   ]
  },
  {
   "cell_type": "code",
   "execution_count": 35,
   "metadata": {
    "execution": {
     "iopub.execute_input": "2021-04-05T02:36:13.340787Z",
     "iopub.status.busy": "2021-04-05T02:36:13.339771Z",
     "iopub.status.idle": "2021-04-05T02:36:13.352352Z",
     "shell.execute_reply": "2021-04-05T02:36:13.351464Z"
    },
    "papermill": {
     "duration": 0.108709,
     "end_time": "2021-04-05T02:36:13.352540",
     "exception": false,
     "start_time": "2021-04-05T02:36:13.243831",
     "status": "completed"
    },
    "tags": []
   },
   "outputs": [],
   "source": [
    "data_nn = pd.read_csv(\"/kaggle/input/heart-failure-clinical-data/heart_failure_clinical_records_dataset.csv\")"
   ]
  },
  {
   "cell_type": "code",
   "execution_count": 36,
   "metadata": {
    "execution": {
     "iopub.execute_input": "2021-04-05T02:36:13.538239Z",
     "iopub.status.busy": "2021-04-05T02:36:13.537291Z",
     "iopub.status.idle": "2021-04-05T02:36:13.545200Z",
     "shell.execute_reply": "2021-04-05T02:36:13.545920Z"
    },
    "papermill": {
     "duration": 0.10265,
     "end_time": "2021-04-05T02:36:13.546131",
     "exception": false,
     "start_time": "2021-04-05T02:36:13.443481",
     "status": "completed"
    },
    "tags": []
   },
   "outputs": [],
   "source": [
    "y = data_nn.DEATH_EVENT\n",
    "x = data_nn.drop(\"DEATH_EVENT\", axis=1)\n",
    "x_train, x_test, y_train, y_test = train_test_split(x, y, test_size=0.3, random_state = 340)"
   ]
  },
  {
   "cell_type": "code",
   "execution_count": 37,
   "metadata": {
    "execution": {
     "iopub.execute_input": "2021-04-05T02:36:13.732070Z",
     "iopub.status.busy": "2021-04-05T02:36:13.731151Z",
     "iopub.status.idle": "2021-04-05T02:36:13.757608Z",
     "shell.execute_reply": "2021-04-05T02:36:13.758393Z"
    },
    "papermill": {
     "duration": 0.121561,
     "end_time": "2021-04-05T02:36:13.758604",
     "exception": false,
     "start_time": "2021-04-05T02:36:13.637043",
     "status": "completed"
    },
    "tags": []
   },
   "outputs": [
    {
     "data": {
      "text/html": [
       "<div>\n",
       "<style scoped>\n",
       "    .dataframe tbody tr th:only-of-type {\n",
       "        vertical-align: middle;\n",
       "    }\n",
       "\n",
       "    .dataframe tbody tr th {\n",
       "        vertical-align: top;\n",
       "    }\n",
       "\n",
       "    .dataframe thead th {\n",
       "        text-align: right;\n",
       "    }\n",
       "</style>\n",
       "<table border=\"1\" class=\"dataframe\">\n",
       "  <thead>\n",
       "    <tr style=\"text-align: right;\">\n",
       "      <th></th>\n",
       "      <th>age</th>\n",
       "      <th>anaemia</th>\n",
       "      <th>creatinine_phosphokinase</th>\n",
       "      <th>diabetes</th>\n",
       "      <th>ejection_fraction</th>\n",
       "      <th>high_blood_pressure</th>\n",
       "      <th>platelets</th>\n",
       "      <th>serum_creatinine</th>\n",
       "      <th>serum_sodium</th>\n",
       "      <th>sex</th>\n",
       "      <th>smoking</th>\n",
       "      <th>time</th>\n",
       "    </tr>\n",
       "  </thead>\n",
       "  <tbody>\n",
       "    <tr>\n",
       "      <th>159</th>\n",
       "      <td>-0.145840</td>\n",
       "      <td>1</td>\n",
       "      <td>-0.448171</td>\n",
       "      <td>0</td>\n",
       "      <td>0.644881</td>\n",
       "      <td>1</td>\n",
       "      <td>1.074678</td>\n",
       "      <td>-0.287871</td>\n",
       "      <td>0.554832</td>\n",
       "      <td>1</td>\n",
       "      <td>1</td>\n",
       "      <td>-0.068027</td>\n",
       "    </tr>\n",
       "    <tr>\n",
       "      <th>183</th>\n",
       "      <td>1.230517</td>\n",
       "      <td>0</td>\n",
       "      <td>-0.477861</td>\n",
       "      <td>0</td>\n",
       "      <td>0.031846</td>\n",
       "      <td>1</td>\n",
       "      <td>-0.370823</td>\n",
       "      <td>1.140017</td>\n",
       "      <td>-0.539130</td>\n",
       "      <td>1</td>\n",
       "      <td>0</td>\n",
       "      <td>0.473218</td>\n",
       "    </tr>\n",
       "    <tr>\n",
       "      <th>169</th>\n",
       "      <td>0.800406</td>\n",
       "      <td>0</td>\n",
       "      <td>0.250532</td>\n",
       "      <td>0</td>\n",
       "      <td>-0.230883</td>\n",
       "      <td>1</td>\n",
       "      <td>0.477623</td>\n",
       "      <td>-0.593847</td>\n",
       "      <td>-0.757922</td>\n",
       "      <td>0</td>\n",
       "      <td>0</td>\n",
       "      <td>0.248799</td>\n",
       "    </tr>\n",
       "    <tr>\n",
       "      <th>161</th>\n",
       "      <td>-1.350153</td>\n",
       "      <td>1</td>\n",
       "      <td>-0.447181</td>\n",
       "      <td>0</td>\n",
       "      <td>-0.230883</td>\n",
       "      <td>0</td>\n",
       "      <td>-0.894556</td>\n",
       "      <td>-0.593847</td>\n",
       "      <td>0.554832</td>\n",
       "      <td>1</td>\n",
       "      <td>1</td>\n",
       "      <td>-0.068027</td>\n",
       "    </tr>\n",
       "    <tr>\n",
       "      <th>83</th>\n",
       "      <td>1.574607</td>\n",
       "      <td>1</td>\n",
       "      <td>-0.521406</td>\n",
       "      <td>0</td>\n",
       "      <td>1.082763</td>\n",
       "      <td>1</td>\n",
       "      <td>-0.915505</td>\n",
       "      <td>0.426073</td>\n",
       "      <td>-0.757922</td>\n",
       "      <td>1</td>\n",
       "      <td>0</td>\n",
       "      <td>-0.635673</td>\n",
       "    </tr>\n",
       "  </tbody>\n",
       "</table>\n",
       "</div>"
      ],
      "text/plain": [
       "          age  anaemia  creatinine_phosphokinase  diabetes  ejection_fraction  \\\n",
       "159 -0.145840        1                 -0.448171         0           0.644881   \n",
       "183  1.230517        0                 -0.477861         0           0.031846   \n",
       "169  0.800406        0                  0.250532         0          -0.230883   \n",
       "161 -1.350153        1                 -0.447181         0          -0.230883   \n",
       "83   1.574607        1                 -0.521406         0           1.082763   \n",
       "\n",
       "     high_blood_pressure  platelets  serum_creatinine  serum_sodium  sex  \\\n",
       "159                    1   1.074678         -0.287871      0.554832    1   \n",
       "183                    1  -0.370823          1.140017     -0.539130    1   \n",
       "169                    1   0.477623         -0.593847     -0.757922    0   \n",
       "161                    0  -0.894556         -0.593847      0.554832    1   \n",
       "83                     1  -0.915505          0.426073     -0.757922    1   \n",
       "\n",
       "     smoking      time  \n",
       "159        1 -0.068027  \n",
       "183        0  0.473218  \n",
       "169        0  0.248799  \n",
       "161        1 -0.068027  \n",
       "83         0 -0.635673  "
      ]
     },
     "execution_count": 37,
     "metadata": {},
     "output_type": "execute_result"
    }
   ],
   "source": [
    "from sklearn.preprocessing import StandardScaler\n",
    "scaler = StandardScaler().fit(x_train[numerical_features])\n",
    "x_train_copy = x_train.copy()\n",
    "transformed = scaler.transform(x_train[numerical_features])\n",
    "x_train_copy[numerical_features] = transformed\n",
    "x_train = x_train_copy\n",
    "x_train.head()"
   ]
  },
  {
   "cell_type": "code",
   "execution_count": 38,
   "metadata": {
    "execution": {
     "iopub.execute_input": "2021-04-05T02:36:13.949582Z",
     "iopub.status.busy": "2021-04-05T02:36:13.948709Z",
     "iopub.status.idle": "2021-04-05T02:36:13.973126Z",
     "shell.execute_reply": "2021-04-05T02:36:13.972440Z"
    },
    "papermill": {
     "duration": 0.121993,
     "end_time": "2021-04-05T02:36:13.973273",
     "exception": false,
     "start_time": "2021-04-05T02:36:13.851280",
     "status": "completed"
    },
    "tags": []
   },
   "outputs": [
    {
     "data": {
      "text/html": [
       "<div>\n",
       "<style scoped>\n",
       "    .dataframe tbody tr th:only-of-type {\n",
       "        vertical-align: middle;\n",
       "    }\n",
       "\n",
       "    .dataframe tbody tr th {\n",
       "        vertical-align: top;\n",
       "    }\n",
       "\n",
       "    .dataframe thead th {\n",
       "        text-align: right;\n",
       "    }\n",
       "</style>\n",
       "<table border=\"1\" class=\"dataframe\">\n",
       "  <thead>\n",
       "    <tr style=\"text-align: right;\">\n",
       "      <th></th>\n",
       "      <th>age</th>\n",
       "      <th>anaemia</th>\n",
       "      <th>creatinine_phosphokinase</th>\n",
       "      <th>diabetes</th>\n",
       "      <th>ejection_fraction</th>\n",
       "      <th>high_blood_pressure</th>\n",
       "      <th>platelets</th>\n",
       "      <th>serum_creatinine</th>\n",
       "      <th>serum_sodium</th>\n",
       "      <th>sex</th>\n",
       "      <th>smoking</th>\n",
       "      <th>time</th>\n",
       "    </tr>\n",
       "  </thead>\n",
       "  <tbody>\n",
       "    <tr>\n",
       "      <th>54</th>\n",
       "      <td>-0.059818</td>\n",
       "      <td>1</td>\n",
       "      <td>-0.318525</td>\n",
       "      <td>1</td>\n",
       "      <td>0.031846</td>\n",
       "      <td>0</td>\n",
       "      <td>-0.046109</td>\n",
       "      <td>0.834041</td>\n",
       "      <td>-0.976714</td>\n",
       "      <td>0</td>\n",
       "      <td>1</td>\n",
       "      <td>-1.071309</td>\n",
       "    </tr>\n",
       "    <tr>\n",
       "      <th>95</th>\n",
       "      <td>-0.231863</td>\n",
       "      <td>1</td>\n",
       "      <td>-0.444212</td>\n",
       "      <td>0</td>\n",
       "      <td>1.958526</td>\n",
       "      <td>1</td>\n",
       "      <td>-0.423196</td>\n",
       "      <td>-0.389863</td>\n",
       "      <td>0.992417</td>\n",
       "      <td>1</td>\n",
       "      <td>0</td>\n",
       "      <td>-0.569668</td>\n",
       "    </tr>\n",
       "    <tr>\n",
       "      <th>254</th>\n",
       "      <td>-0.661975</td>\n",
       "      <td>1</td>\n",
       "      <td>-0.134448</td>\n",
       "      <td>0</td>\n",
       "      <td>1.958526</td>\n",
       "      <td>1</td>\n",
       "      <td>0.041438</td>\n",
       "      <td>-0.389863</td>\n",
       "      <td>0.554832</td>\n",
       "      <td>1</td>\n",
       "      <td>0</td>\n",
       "      <td>1.172876</td>\n",
       "    </tr>\n",
       "    <tr>\n",
       "      <th>201</th>\n",
       "      <td>-1.350153</td>\n",
       "      <td>0</td>\n",
       "      <td>-0.271021</td>\n",
       "      <td>1</td>\n",
       "      <td>1.958526</td>\n",
       "      <td>1</td>\n",
       "      <td>1.231798</td>\n",
       "      <td>-0.389863</td>\n",
       "      <td>-0.101545</td>\n",
       "      <td>1</td>\n",
       "      <td>0</td>\n",
       "      <td>0.790044</td>\n",
       "    </tr>\n",
       "    <tr>\n",
       "      <th>293</th>\n",
       "      <td>0.198249</td>\n",
       "      <td>1</td>\n",
       "      <td>-0.473902</td>\n",
       "      <td>1</td>\n",
       "      <td>-0.230883</td>\n",
       "      <td>0</td>\n",
       "      <td>-0.842182</td>\n",
       "      <td>-0.491855</td>\n",
       "      <td>-0.101545</td>\n",
       "      <td>1</td>\n",
       "      <td>1</td>\n",
       "      <td>1.898936</td>\n",
       "    </tr>\n",
       "  </tbody>\n",
       "</table>\n",
       "</div>"
      ],
      "text/plain": [
       "          age  anaemia  creatinine_phosphokinase  diabetes  ejection_fraction  \\\n",
       "54  -0.059818        1                 -0.318525         1           0.031846   \n",
       "95  -0.231863        1                 -0.444212         0           1.958526   \n",
       "254 -0.661975        1                 -0.134448         0           1.958526   \n",
       "201 -1.350153        0                 -0.271021         1           1.958526   \n",
       "293  0.198249        1                 -0.473902         1          -0.230883   \n",
       "\n",
       "     high_blood_pressure  platelets  serum_creatinine  serum_sodium  sex  \\\n",
       "54                     0  -0.046109          0.834041     -0.976714    0   \n",
       "95                     1  -0.423196         -0.389863      0.992417    1   \n",
       "254                    1   0.041438         -0.389863      0.554832    1   \n",
       "201                    1   1.231798         -0.389863     -0.101545    1   \n",
       "293                    0  -0.842182         -0.491855     -0.101545    1   \n",
       "\n",
       "     smoking      time  \n",
       "54         1 -1.071309  \n",
       "95         0 -0.569668  \n",
       "254        0  1.172876  \n",
       "201        0  0.790044  \n",
       "293        1  1.898936  "
      ]
     },
     "execution_count": 38,
     "metadata": {},
     "output_type": "execute_result"
    }
   ],
   "source": [
    "x_test_copy = x_test.copy()\n",
    "transformed = scaler.transform(x_test[numerical_features])\n",
    "x_test_copy[numerical_features] = transformed\n",
    "x_test = x_test_copy\n",
    "x_test.head()"
   ]
  },
  {
   "cell_type": "code",
   "execution_count": 39,
   "metadata": {
    "execution": {
     "iopub.execute_input": "2021-04-05T02:36:14.162494Z",
     "iopub.status.busy": "2021-04-05T02:36:14.161512Z",
     "iopub.status.idle": "2021-04-05T02:37:15.571060Z",
     "shell.execute_reply": "2021-04-05T02:37:15.569565Z"
    },
    "papermill": {
     "duration": 61.513221,
     "end_time": "2021-04-05T02:37:15.571244",
     "exception": false,
     "start_time": "2021-04-05T02:36:14.058023",
     "status": "completed"
    },
    "tags": []
   },
   "outputs": [
    {
     "name": "stdout",
     "output_type": "stream",
     "text": [
      "Epoch 1/100\n",
      "146/146 [==============================] - 2s 9ms/step - loss: 7.3381 - recall: 0.0000e+00 - accuracy: 0.6117 - val_loss: 7.0463 - val_recall: 0.0000e+00 - val_accuracy: 0.6032\n",
      "Epoch 2/100\n",
      "146/146 [==============================] - 1s 4ms/step - loss: 6.9018 - recall: 0.0000e+00 - accuracy: 0.7118 - val_loss: 6.6771 - val_recall: 0.0000e+00 - val_accuracy: 0.6032\n",
      "Epoch 3/100\n",
      "146/146 [==============================] - 1s 4ms/step - loss: 6.5477 - recall: 0.0000e+00 - accuracy: 0.6626 - val_loss: 6.3382 - val_recall: 0.0000e+00 - val_accuracy: 0.6032\n",
      "Epoch 4/100\n",
      "146/146 [==============================] - 1s 4ms/step - loss: 6.1423 - recall: 0.0000e+00 - accuracy: 0.7627 - val_loss: 6.0086 - val_recall: 0.0000e+00 - val_accuracy: 0.6032\n",
      "Epoch 5/100\n",
      "146/146 [==============================] - 1s 4ms/step - loss: 5.8935 - recall: 0.0000e+00 - accuracy: 0.6701 - val_loss: 5.7047 - val_recall: 0.0000e+00 - val_accuracy: 0.6032\n",
      "Epoch 6/100\n",
      "146/146 [==============================] - 1s 4ms/step - loss: 5.5317 - recall: 0.0267 - accuracy: 0.7407 - val_loss: 5.3905 - val_recall: 0.0400 - val_accuracy: 0.6190\n",
      "Epoch 7/100\n",
      "146/146 [==============================] - 1s 4ms/step - loss: 5.2559 - recall: 0.0186 - accuracy: 0.7333 - val_loss: 5.1060 - val_recall: 0.0800 - val_accuracy: 0.6190\n",
      "Epoch 8/100\n",
      "146/146 [==============================] - 1s 4ms/step - loss: 4.9410 - recall: 0.1491 - accuracy: 0.7791 - val_loss: 4.8167 - val_recall: 0.3200 - val_accuracy: 0.7143\n",
      "Epoch 9/100\n",
      "146/146 [==============================] - 1s 4ms/step - loss: 4.7122 - recall: 0.4131 - accuracy: 0.8003 - val_loss: 4.5552 - val_recall: 0.4000 - val_accuracy: 0.7460\n",
      "Epoch 10/100\n",
      "146/146 [==============================] - 1s 4ms/step - loss: 4.5066 - recall: 0.2747 - accuracy: 0.7652 - val_loss: 4.3119 - val_recall: 0.4800 - val_accuracy: 0.7778\n",
      "Epoch 11/100\n",
      "146/146 [==============================] - 1s 4ms/step - loss: 4.2159 - recall: 0.4438 - accuracy: 0.7658 - val_loss: 4.1480 - val_recall: 0.2800 - val_accuracy: 0.6984\n",
      "Epoch 12/100\n",
      "146/146 [==============================] - 1s 4ms/step - loss: 4.1042 - recall: 0.3014 - accuracy: 0.7447 - val_loss: 3.8970 - val_recall: 0.4400 - val_accuracy: 0.7619\n",
      "Epoch 13/100\n",
      "146/146 [==============================] - 1s 4ms/step - loss: 3.7987 - recall: 0.4324 - accuracy: 0.8050 - val_loss: 3.7074 - val_recall: 0.4400 - val_accuracy: 0.7619\n",
      "Epoch 14/100\n",
      "146/146 [==============================] - 1s 4ms/step - loss: 3.6356 - recall: 0.4205 - accuracy: 0.7953 - val_loss: 3.5536 - val_recall: 0.4000 - val_accuracy: 0.7460\n",
      "Epoch 15/100\n",
      "146/146 [==============================] - 1s 4ms/step - loss: 3.3507 - recall: 0.5268 - accuracy: 0.8561 - val_loss: 3.3620 - val_recall: 0.4800 - val_accuracy: 0.7778\n",
      "Epoch 16/100\n",
      "146/146 [==============================] - 1s 4ms/step - loss: 3.2758 - recall: 0.3892 - accuracy: 0.7722 - val_loss: 3.1881 - val_recall: 0.6400 - val_accuracy: 0.8095\n",
      "Epoch 17/100\n",
      "146/146 [==============================] - 1s 4ms/step - loss: 3.1015 - recall: 0.5843 - accuracy: 0.8237 - val_loss: 3.0380 - val_recall: 0.6000 - val_accuracy: 0.8095\n",
      "Epoch 18/100\n",
      "146/146 [==============================] - 1s 4ms/step - loss: 2.9042 - recall: 0.6425 - accuracy: 0.8631 - val_loss: 2.8938 - val_recall: 0.6800 - val_accuracy: 0.7937\n",
      "Epoch 19/100\n",
      "146/146 [==============================] - 1s 4ms/step - loss: 2.7888 - recall: 0.4432 - accuracy: 0.8130 - val_loss: 2.7765 - val_recall: 0.7600 - val_accuracy: 0.7619\n",
      "Epoch 20/100\n",
      "146/146 [==============================] - 1s 4ms/step - loss: 2.7428 - recall: 0.6005 - accuracy: 0.7876 - val_loss: 2.7017 - val_recall: 0.3600 - val_accuracy: 0.7302\n",
      "Epoch 21/100\n",
      "146/146 [==============================] - 1s 4ms/step - loss: 2.5438 - recall: 0.5109 - accuracy: 0.8228 - val_loss: 2.5166 - val_recall: 0.6000 - val_accuracy: 0.7619\n",
      "Epoch 22/100\n",
      "146/146 [==============================] - 1s 4ms/step - loss: 2.4214 - recall: 0.5799 - accuracy: 0.8130 - val_loss: 2.4077 - val_recall: 0.6400 - val_accuracy: 0.7778\n",
      "Epoch 23/100\n",
      "146/146 [==============================] - 1s 4ms/step - loss: 2.3109 - recall: 0.5595 - accuracy: 0.8368 - val_loss: 2.3060 - val_recall: 0.6400 - val_accuracy: 0.7778\n",
      "Epoch 24/100\n",
      "146/146 [==============================] - 1s 4ms/step - loss: 2.1868 - recall: 0.7087 - accuracy: 0.8461 - val_loss: 2.1999 - val_recall: 0.6800 - val_accuracy: 0.7937\n",
      "Epoch 25/100\n",
      "146/146 [==============================] - 1s 4ms/step - loss: 2.1479 - recall: 0.6035 - accuracy: 0.8275 - val_loss: 2.1212 - val_recall: 0.6400 - val_accuracy: 0.7778\n",
      "Epoch 26/100\n",
      "146/146 [==============================] - 1s 4ms/step - loss: 1.9464 - recall: 0.4753 - accuracy: 0.8601 - val_loss: 2.0308 - val_recall: 0.6400 - val_accuracy: 0.7778\n",
      "Epoch 27/100\n",
      "146/146 [==============================] - 1s 4ms/step - loss: 1.9495 - recall: 0.6728 - accuracy: 0.8498 - val_loss: 1.9415 - val_recall: 0.6800 - val_accuracy: 0.7937\n",
      "Epoch 28/100\n",
      "146/146 [==============================] - 1s 4ms/step - loss: 1.8144 - recall: 0.7803 - accuracy: 0.8660 - val_loss: 1.8835 - val_recall: 0.6000 - val_accuracy: 0.7619\n",
      "Epoch 29/100\n",
      "146/146 [==============================] - 1s 4ms/step - loss: 1.7214 - recall: 0.6501 - accuracy: 0.8489 - val_loss: 1.7908 - val_recall: 0.6400 - val_accuracy: 0.7778\n",
      "Epoch 30/100\n",
      "146/146 [==============================] - 1s 4ms/step - loss: 1.7324 - recall: 0.6145 - accuracy: 0.8185 - val_loss: 1.7393 - val_recall: 0.6000 - val_accuracy: 0.7619\n",
      "Epoch 31/100\n",
      "146/146 [==============================] - 1s 4ms/step - loss: 1.6544 - recall: 0.6892 - accuracy: 0.8062 - val_loss: 1.6907 - val_recall: 0.5600 - val_accuracy: 0.7778\n",
      "Epoch 32/100\n",
      "146/146 [==============================] - 1s 4ms/step - loss: 1.5426 - recall: 0.4876 - accuracy: 0.8185 - val_loss: 1.5838 - val_recall: 0.6800 - val_accuracy: 0.7937\n",
      "Epoch 33/100\n",
      "146/146 [==============================] - 1s 4ms/step - loss: 1.5487 - recall: 0.5375 - accuracy: 0.8015 - val_loss: 1.5366 - val_recall: 0.6400 - val_accuracy: 0.7778\n",
      "Epoch 34/100\n",
      "146/146 [==============================] - 1s 4ms/step - loss: 1.4228 - recall: 0.6195 - accuracy: 0.8671 - val_loss: 1.4812 - val_recall: 0.6400 - val_accuracy: 0.7778\n",
      "Epoch 35/100\n",
      "146/146 [==============================] - 1s 4ms/step - loss: 1.5080 - recall: 0.6101 - accuracy: 0.8385 - val_loss: 1.4398 - val_recall: 0.6400 - val_accuracy: 0.7778\n",
      "Epoch 36/100\n",
      "146/146 [==============================] - 1s 4ms/step - loss: 1.3253 - recall: 0.7469 - accuracy: 0.8280 - val_loss: 1.3687 - val_recall: 0.6800 - val_accuracy: 0.7937\n",
      "Epoch 37/100\n",
      "146/146 [==============================] - 1s 4ms/step - loss: 1.3393 - recall: 0.6573 - accuracy: 0.8257 - val_loss: 1.3354 - val_recall: 0.6400 - val_accuracy: 0.7937\n",
      "Epoch 38/100\n",
      "146/146 [==============================] - 1s 4ms/step - loss: 1.2450 - recall: 0.5514 - accuracy: 0.8112 - val_loss: 1.2735 - val_recall: 0.8400 - val_accuracy: 0.8254\n",
      "Epoch 39/100\n",
      "146/146 [==============================] - 1s 4ms/step - loss: 1.2239 - recall: 0.7812 - accuracy: 0.8282 - val_loss: 1.2400 - val_recall: 0.6400 - val_accuracy: 0.7937\n",
      "Epoch 40/100\n",
      "146/146 [==============================] - 1s 4ms/step - loss: 1.1718 - recall: 0.6098 - accuracy: 0.7957 - val_loss: 1.1998 - val_recall: 0.6800 - val_accuracy: 0.7937\n",
      "Epoch 41/100\n",
      "146/146 [==============================] - 1s 4ms/step - loss: 1.1580 - recall: 0.6948 - accuracy: 0.8411 - val_loss: 1.1593 - val_recall: 0.8400 - val_accuracy: 0.8254\n",
      "Epoch 42/100\n",
      "146/146 [==============================] - 1s 4ms/step - loss: 1.0540 - recall: 0.7419 - accuracy: 0.8282 - val_loss: 1.1332 - val_recall: 0.6400 - val_accuracy: 0.7937\n",
      "Epoch 43/100\n",
      "146/146 [==============================] - 1s 4ms/step - loss: 1.0730 - recall: 0.7261 - accuracy: 0.8422 - val_loss: 1.0899 - val_recall: 0.6800 - val_accuracy: 0.8095\n",
      "Epoch 44/100\n",
      "146/146 [==============================] - 1s 4ms/step - loss: 1.0962 - recall: 0.5184 - accuracy: 0.7794 - val_loss: 1.0754 - val_recall: 0.6400 - val_accuracy: 0.7937\n",
      "Epoch 45/100\n",
      "146/146 [==============================] - 1s 4ms/step - loss: 0.9726 - recall: 0.7097 - accuracy: 0.8523 - val_loss: 1.0180 - val_recall: 0.7200 - val_accuracy: 0.8254\n",
      "Epoch 46/100\n",
      "146/146 [==============================] - 1s 4ms/step - loss: 0.9674 - recall: 0.6360 - accuracy: 0.8037 - val_loss: 0.9991 - val_recall: 0.7600 - val_accuracy: 0.8095\n",
      "Epoch 47/100\n",
      "146/146 [==============================] - 1s 4ms/step - loss: 0.8248 - recall: 0.8112 - accuracy: 0.8947 - val_loss: 0.9862 - val_recall: 0.8400 - val_accuracy: 0.8254\n",
      "Epoch 48/100\n",
      "146/146 [==============================] - 1s 4ms/step - loss: 0.8924 - recall: 0.7082 - accuracy: 0.8164 - val_loss: 0.9682 - val_recall: 0.7600 - val_accuracy: 0.8095\n",
      "Epoch 49/100\n",
      "146/146 [==============================] - 1s 4ms/step - loss: 0.9978 - recall: 0.6899 - accuracy: 0.7697 - val_loss: 0.9643 - val_recall: 0.7200 - val_accuracy: 0.8095\n",
      "Epoch 50/100\n",
      "146/146 [==============================] - 1s 4ms/step - loss: 0.9632 - recall: 0.6976 - accuracy: 0.8490 - val_loss: 0.9122 - val_recall: 0.7600 - val_accuracy: 0.8095\n",
      "Epoch 51/100\n",
      "146/146 [==============================] - 1s 4ms/step - loss: 0.8055 - recall: 0.8160 - accuracy: 0.8647 - val_loss: 0.8969 - val_recall: 0.7200 - val_accuracy: 0.7937\n",
      "Epoch 52/100\n",
      "146/146 [==============================] - 1s 4ms/step - loss: 0.7855 - recall: 0.6678 - accuracy: 0.8322 - val_loss: 0.8693 - val_recall: 0.8400 - val_accuracy: 0.8413\n",
      "Epoch 53/100\n",
      "146/146 [==============================] - 1s 4ms/step - loss: 0.8021 - recall: 0.8002 - accuracy: 0.8316 - val_loss: 0.8545 - val_recall: 0.7600 - val_accuracy: 0.8095\n",
      "Epoch 54/100\n",
      "146/146 [==============================] - 1s 4ms/step - loss: 0.7440 - recall: 0.7116 - accuracy: 0.8371 - val_loss: 0.8462 - val_recall: 0.8000 - val_accuracy: 0.8254\n",
      "Epoch 55/100\n",
      "146/146 [==============================] - 1s 4ms/step - loss: 0.7807 - recall: 0.7411 - accuracy: 0.8549 - val_loss: 0.8431 - val_recall: 0.7600 - val_accuracy: 0.8095\n",
      "Epoch 56/100\n",
      "146/146 [==============================] - 1s 4ms/step - loss: 0.8201 - recall: 0.6137 - accuracy: 0.7929 - val_loss: 0.8530 - val_recall: 0.6000 - val_accuracy: 0.8095\n",
      "Epoch 57/100\n",
      "146/146 [==============================] - 1s 4ms/step - loss: 0.7447 - recall: 0.6026 - accuracy: 0.8418 - val_loss: 0.8104 - val_recall: 0.8000 - val_accuracy: 0.8095\n",
      "Epoch 58/100\n",
      "146/146 [==============================] - 1s 4ms/step - loss: 0.7063 - recall: 0.8020 - accuracy: 0.8536 - val_loss: 0.8295 - val_recall: 0.6800 - val_accuracy: 0.7937\n",
      "Epoch 59/100\n",
      "146/146 [==============================] - 1s 4ms/step - loss: 0.6998 - recall: 0.6901 - accuracy: 0.8450 - val_loss: 0.7900 - val_recall: 0.7600 - val_accuracy: 0.8254\n",
      "Epoch 60/100\n",
      "146/146 [==============================] - 1s 4ms/step - loss: 0.7028 - recall: 0.6929 - accuracy: 0.8381 - val_loss: 0.7574 - val_recall: 0.8000 - val_accuracy: 0.8254\n",
      "Epoch 61/100\n",
      "146/146 [==============================] - 1s 4ms/step - loss: 0.6118 - recall: 0.8537 - accuracy: 0.9051 - val_loss: 0.7507 - val_recall: 0.7600 - val_accuracy: 0.8095\n",
      "Epoch 62/100\n",
      "146/146 [==============================] - 1s 4ms/step - loss: 0.6346 - recall: 0.6856 - accuracy: 0.8846 - val_loss: 0.7401 - val_recall: 0.8000 - val_accuracy: 0.8254\n",
      "Epoch 63/100\n",
      "146/146 [==============================] - 1s 4ms/step - loss: 0.5680 - recall: 0.8578 - accuracy: 0.9124 - val_loss: 0.8521 - val_recall: 0.4800 - val_accuracy: 0.7619\n",
      "Epoch 64/100\n",
      "146/146 [==============================] - 1s 4ms/step - loss: 0.5340 - recall: 0.8583 - accuracy: 0.9158 - val_loss: 0.7278 - val_recall: 0.8000 - val_accuracy: 0.8254\n",
      "Epoch 65/100\n",
      "146/146 [==============================] - 1s 4ms/step - loss: 0.6430 - recall: 0.7875 - accuracy: 0.8538 - val_loss: 0.7280 - val_recall: 0.7600 - val_accuracy: 0.8254\n",
      "Epoch 66/100\n",
      "146/146 [==============================] - 1s 4ms/step - loss: 0.7223 - recall: 0.7185 - accuracy: 0.8121 - val_loss: 0.7294 - val_recall: 0.7600 - val_accuracy: 0.8254\n",
      "Epoch 67/100\n",
      "146/146 [==============================] - 1s 4ms/step - loss: 0.5758 - recall: 0.8286 - accuracy: 0.8960 - val_loss: 0.7268 - val_recall: 0.8400 - val_accuracy: 0.7937\n",
      "Epoch 68/100\n",
      "146/146 [==============================] - 1s 4ms/step - loss: 0.5308 - recall: 0.8995 - accuracy: 0.9190 - val_loss: 0.6917 - val_recall: 0.8000 - val_accuracy: 0.8413\n",
      "Epoch 69/100\n",
      "146/146 [==============================] - 1s 4ms/step - loss: 0.5723 - recall: 0.8008 - accuracy: 0.8490 - val_loss: 0.6875 - val_recall: 0.7600 - val_accuracy: 0.8095\n",
      "Epoch 70/100\n",
      "146/146 [==============================] - 1s 4ms/step - loss: 0.6792 - recall: 0.6076 - accuracy: 0.8212 - val_loss: 0.6967 - val_recall: 0.6000 - val_accuracy: 0.7778\n",
      "Epoch 71/100\n",
      "146/146 [==============================] - 1s 4ms/step - loss: 0.6999 - recall: 0.6310 - accuracy: 0.7944 - val_loss: 0.6620 - val_recall: 0.8000 - val_accuracy: 0.8254\n",
      "Epoch 72/100\n",
      "146/146 [==============================] - 1s 4ms/step - loss: 0.6051 - recall: 0.7698 - accuracy: 0.8902 - val_loss: 0.6897 - val_recall: 0.7200 - val_accuracy: 0.8095\n",
      "Epoch 73/100\n",
      "146/146 [==============================] - 1s 4ms/step - loss: 0.6028 - recall: 0.6602 - accuracy: 0.8056 - val_loss: 0.6756 - val_recall: 0.6800 - val_accuracy: 0.7937\n",
      "Epoch 74/100\n",
      "146/146 [==============================] - 1s 4ms/step - loss: 0.4775 - recall: 0.8225 - accuracy: 0.9217 - val_loss: 0.6704 - val_recall: 0.8000 - val_accuracy: 0.7937\n",
      "Epoch 75/100\n",
      "146/146 [==============================] - 1s 4ms/step - loss: 0.5259 - recall: 0.7934 - accuracy: 0.8963 - val_loss: 0.6554 - val_recall: 0.8000 - val_accuracy: 0.8095\n",
      "Epoch 76/100\n",
      "146/146 [==============================] - 1s 4ms/step - loss: 0.5081 - recall: 0.8556 - accuracy: 0.9089 - val_loss: 0.6420 - val_recall: 0.8000 - val_accuracy: 0.8254\n",
      "Epoch 77/100\n",
      "146/146 [==============================] - 1s 4ms/step - loss: 0.5647 - recall: 0.7869 - accuracy: 0.8213 - val_loss: 0.6937 - val_recall: 0.6400 - val_accuracy: 0.7937\n",
      "Epoch 78/100\n",
      "146/146 [==============================] - 1s 4ms/step - loss: 0.6028 - recall: 0.7592 - accuracy: 0.8521 - val_loss: 0.6367 - val_recall: 0.7600 - val_accuracy: 0.8254\n",
      "Epoch 79/100\n",
      "146/146 [==============================] - 1s 4ms/step - loss: 0.5210 - recall: 0.8342 - accuracy: 0.8915 - val_loss: 0.6449 - val_recall: 0.6800 - val_accuracy: 0.7937\n",
      "Epoch 80/100\n",
      "146/146 [==============================] - 1s 4ms/step - loss: 0.4442 - recall: 0.8083 - accuracy: 0.9180 - val_loss: 0.6566 - val_recall: 0.8000 - val_accuracy: 0.8254\n",
      "Epoch 81/100\n",
      "146/146 [==============================] - 1s 4ms/step - loss: 0.4825 - recall: 0.8228 - accuracy: 0.8798 - val_loss: 0.6774 - val_recall: 0.6400 - val_accuracy: 0.7778\n",
      "Epoch 82/100\n",
      "146/146 [==============================] - 1s 4ms/step - loss: 0.5170 - recall: 0.6674 - accuracy: 0.8456 - val_loss: 0.6109 - val_recall: 0.8400 - val_accuracy: 0.8413\n",
      "Epoch 83/100\n",
      "146/146 [==============================] - 1s 4ms/step - loss: 0.4825 - recall: 0.8115 - accuracy: 0.8716 - val_loss: 0.6457 - val_recall: 0.8800 - val_accuracy: 0.8095\n",
      "Epoch 84/100\n",
      "146/146 [==============================] - 1s 4ms/step - loss: 0.4930 - recall: 0.8460 - accuracy: 0.8921 - val_loss: 0.6483 - val_recall: 0.8400 - val_accuracy: 0.7778\n",
      "Epoch 85/100\n",
      "146/146 [==============================] - 1s 4ms/step - loss: 0.5153 - recall: 0.8417 - accuracy: 0.8437 - val_loss: 0.6111 - val_recall: 0.8000 - val_accuracy: 0.8254\n",
      "Epoch 86/100\n",
      "146/146 [==============================] - 1s 4ms/step - loss: 0.4316 - recall: 0.8516 - accuracy: 0.9240 - val_loss: 0.6080 - val_recall: 0.7600 - val_accuracy: 0.8254\n",
      "Epoch 87/100\n",
      "146/146 [==============================] - 1s 4ms/step - loss: 0.4675 - recall: 0.8343 - accuracy: 0.8854 - val_loss: 0.5973 - val_recall: 0.8400 - val_accuracy: 0.8571\n",
      "Epoch 88/100\n",
      "146/146 [==============================] - 1s 4ms/step - loss: 0.4483 - recall: 0.8335 - accuracy: 0.9008 - val_loss: 0.6064 - val_recall: 0.8000 - val_accuracy: 0.8413\n",
      "Epoch 89/100\n",
      "146/146 [==============================] - 1s 4ms/step - loss: 0.4429 - recall: 0.7735 - accuracy: 0.8929 - val_loss: 0.5918 - val_recall: 0.8000 - val_accuracy: 0.8254\n",
      "Epoch 90/100\n",
      "146/146 [==============================] - 1s 4ms/step - loss: 0.5806 - recall: 0.7192 - accuracy: 0.8537 - val_loss: 0.5923 - val_recall: 0.8400 - val_accuracy: 0.8413\n",
      "Epoch 91/100\n",
      "146/146 [==============================] - 1s 4ms/step - loss: 0.4727 - recall: 0.8187 - accuracy: 0.8813 - val_loss: 0.6117 - val_recall: 0.7200 - val_accuracy: 0.8095\n",
      "Epoch 92/100\n",
      "146/146 [==============================] - 1s 4ms/step - loss: 0.4910 - recall: 0.7022 - accuracy: 0.8537 - val_loss: 0.5856 - val_recall: 0.8000 - val_accuracy: 0.8413\n",
      "Epoch 93/100\n",
      "146/146 [==============================] - 1s 4ms/step - loss: 0.4808 - recall: 0.7607 - accuracy: 0.8684 - val_loss: 0.6315 - val_recall: 0.6400 - val_accuracy: 0.7778\n",
      "Epoch 94/100\n",
      "146/146 [==============================] - 1s 4ms/step - loss: 0.5126 - recall: 0.7263 - accuracy: 0.8476 - val_loss: 0.6222 - val_recall: 0.6400 - val_accuracy: 0.7937\n",
      "Epoch 95/100\n",
      "146/146 [==============================] - 1s 4ms/step - loss: 0.5233 - recall: 0.7139 - accuracy: 0.8601 - val_loss: 0.5732 - val_recall: 0.8400 - val_accuracy: 0.8413\n",
      "Epoch 96/100\n",
      "146/146 [==============================] - 1s 4ms/step - loss: 0.4803 - recall: 0.8336 - accuracy: 0.8976 - val_loss: 0.5983 - val_recall: 0.7200 - val_accuracy: 0.8095\n",
      "Epoch 97/100\n",
      "146/146 [==============================] - 1s 4ms/step - loss: 0.6037 - recall: 0.5810 - accuracy: 0.7986 - val_loss: 0.5731 - val_recall: 0.7600 - val_accuracy: 0.8254\n",
      "Epoch 98/100\n",
      "146/146 [==============================] - 1s 4ms/step - loss: 0.4586 - recall: 0.7777 - accuracy: 0.8668 - val_loss: 0.6622 - val_recall: 0.6000 - val_accuracy: 0.7778\n",
      "Epoch 99/100\n",
      "146/146 [==============================] - 1s 4ms/step - loss: 0.4911 - recall: 0.7154 - accuracy: 0.8603 - val_loss: 0.5919 - val_recall: 0.8000 - val_accuracy: 0.8095\n",
      "Epoch 100/100\n",
      "146/146 [==============================] - 1s 4ms/step - loss: 0.4566 - recall: 0.7516 - accuracy: 0.9138 - val_loss: 0.6032 - val_recall: 0.6800 - val_accuracy: 0.7937\n"
     ]
    }
   ],
   "source": [
    "def create_model():\n",
    "    model = Sequential(\n",
    "        [layers.Dense(4, kernel_regularizer=regularizers.l2(0.01),\n",
    "                 activation='relu', input_shape=(12,)),\n",
    "        layers.Dropout(0.2),\n",
    "        layers.Dense(16, kernel_regularizer=regularizers.l2(0.01),\n",
    "                     activation='relu'),\n",
    "        layers.Dropout(0.2),\n",
    "        layers.Dense(32, kernel_regularizer=regularizers.l2(0.01),\n",
    "                     activation='relu'),\n",
    "        layers.Dropout(0.2),\n",
    "        layers.Dense(64, kernel_regularizer=regularizers.l2(0.01),\n",
    "                     activation='relu'),\n",
    "        layers.Dropout(0.2),\n",
    "        layers.Dense(128, kernel_regularizer=regularizers.l2(0.01),\n",
    "                     activation='relu'),\n",
    "        layers.Dropout(0.2),\n",
    "        layers.Dense(256, kernel_regularizer=regularizers.l2(0.01),\n",
    "                     activation='relu'),\n",
    "        layers.Dropout(0.2),\n",
    "        layers.Dense(512, kernel_regularizer=regularizers.l2(0.01),\n",
    "                     activation='relu'),\n",
    "        layers.Dropout(0.2),\n",
    "        layers.Dense(1, activation='sigmoid')]\n",
    "    )\n",
    "\n",
    "    metric = tf.keras.metrics.Recall()\n",
    "    model.compile(loss='binary_crossentropy',\n",
    "                  optimizer=SGD(learning_rate=0.001, momentum=0.9),\n",
    "                  metrics=[metric,'accuracy'])\n",
    "\n",
    "    history = model.fit(x_train, y_train,epochs=100, batch_size=1, verbose=1, validation_split=0.3)\n",
    "    return (model, history)\n",
    "model, history = create_model()"
   ]
  },
  {
   "cell_type": "code",
   "execution_count": 40,
   "metadata": {
    "execution": {
     "iopub.execute_input": "2021-04-05T02:37:16.750887Z",
     "iopub.status.busy": "2021-04-05T02:37:16.750020Z",
     "iopub.status.idle": "2021-04-05T02:37:16.757279Z",
     "shell.execute_reply": "2021-04-05T02:37:16.756372Z"
    },
    "papermill": {
     "duration": 0.597135,
     "end_time": "2021-04-05T02:37:16.757455",
     "exception": false,
     "start_time": "2021-04-05T02:37:16.160320",
     "status": "completed"
    },
    "tags": []
   },
   "outputs": [
    {
     "data": {
      "text/plain": [
       "dict_keys(['loss', 'recall', 'accuracy', 'val_loss', 'val_recall', 'val_accuracy'])"
      ]
     },
     "execution_count": 40,
     "metadata": {},
     "output_type": "execute_result"
    }
   ],
   "source": [
    "history.history.keys()"
   ]
  },
  {
   "cell_type": "code",
   "execution_count": 41,
   "metadata": {
    "execution": {
     "iopub.execute_input": "2021-04-05T02:37:17.885547Z",
     "iopub.status.busy": "2021-04-05T02:37:17.862620Z",
     "iopub.status.idle": "2021-04-05T02:37:18.151280Z",
     "shell.execute_reply": "2021-04-05T02:37:18.150702Z"
    },
    "papermill": {
     "duration": 0.880446,
     "end_time": "2021-04-05T02:37:18.151424",
     "exception": false,
     "start_time": "2021-04-05T02:37:17.270978",
     "status": "completed"
    },
    "tags": []
   },
   "outputs": [
    {
     "data": {
      "image/png": "[encoded data removed]",
      "text/plain": [
       "<Figure size 432x432 with 1 Axes>"
      ]
     },
     "metadata": {},
     "output_type": "display_data"
    }
   ],
   "source": [
    "# summarize history for loss\n",
    "plt.plot(history.history['loss'])\n",
    "plt.plot(history.history['val_loss'])\n",
    "plt.title('model loss')\n",
    "plt.ylabel('loss')\n",
    "plt.xlabel('epoch')\n",
    "plt.legend(['train', 'test'], loc='upper left')\n",
    "plt.show()"
   ]
  },
  {
   "cell_type": "code",
   "execution_count": 42,
   "metadata": {
    "execution": {
     "iopub.execute_input": "2021-04-05T02:37:18.947021Z",
     "iopub.status.busy": "2021-04-05T02:37:18.946085Z",
     "iopub.status.idle": "2021-04-05T02:37:19.237402Z",
     "shell.execute_reply": "2021-04-05T02:37:19.235903Z"
    },
    "papermill": {
     "duration": 0.693295,
     "end_time": "2021-04-05T02:37:19.237577",
     "exception": false,
     "start_time": "2021-04-05T02:37:18.544282",
     "status": "completed"
    },
    "tags": []
   },
   "outputs": [
    {
     "data": {
      "image/png": "[encoded data removed]",
      "text/plain": [
       "<Figure size 432x432 with 1 Axes>"
      ]
     },
     "metadata": {},
     "output_type": "display_data"
    }
   ],
   "source": [
    "# summarize history for accuracy\n",
    "plt.plot(history.history['accuracy'])\n",
    "plt.plot(history.history['val_accuracy'])\n",
    "plt.title('model accuracy')\n",
    "plt.ylabel('Accuracy')\n",
    "plt.xlabel('epoch')\n",
    "plt.legend(['train', 'test'], loc='upper left')\n",
    "plt.show()"
   ]
  },
  {
   "cell_type": "code",
   "execution_count": 43,
   "metadata": {
    "execution": {
     "iopub.execute_input": "2021-04-05T02:37:20.023321Z",
     "iopub.status.busy": "2021-04-05T02:37:20.022384Z",
     "iopub.status.idle": "2021-04-05T02:37:20.641086Z",
     "shell.execute_reply": "2021-04-05T02:37:20.640296Z"
    },
    "papermill": {
     "duration": 1.013945,
     "end_time": "2021-04-05T02:37:20.641250",
     "exception": false,
     "start_time": "2021-04-05T02:37:19.627305",
     "status": "completed"
    },
    "tags": []
   },
   "outputs": [
    {
     "name": "stdout",
     "output_type": "stream",
     "text": [
      "3/3 [==============================] - 0s 4ms/step - loss: 0.5400 - recall: 0.7037 - accuracy: 0.8111\n"
     ]
    }
   ],
   "source": [
    "y_pred = model.predict(x_test)\n",
    "\n",
    "score = model.evaluate(x_test, y_test,verbose=1)"
   ]
  },
  {
   "cell_type": "code",
   "execution_count": 44,
   "metadata": {
    "execution": {
     "iopub.execute_input": "2021-04-05T02:37:21.489315Z",
     "iopub.status.busy": "2021-04-05T02:37:21.488407Z",
     "iopub.status.idle": "2021-04-05T02:37:21.494403Z",
     "shell.execute_reply": "2021-04-05T02:37:21.493807Z"
    },
    "papermill": {
     "duration": 0.418628,
     "end_time": "2021-04-05T02:37:21.494548",
     "exception": false,
     "start_time": "2021-04-05T02:37:21.075920",
     "status": "completed"
    },
    "tags": []
   },
   "outputs": [
    {
     "data": {
      "text/html": [
       "<div>\n",
       "<style scoped>\n",
       "    .dataframe tbody tr th:only-of-type {\n",
       "        vertical-align: middle;\n",
       "    }\n",
       "\n",
       "    .dataframe tbody tr th {\n",
       "        vertical-align: top;\n",
       "    }\n",
       "\n",
       "    .dataframe thead th {\n",
       "        text-align: right;\n",
       "    }\n",
       "</style>\n",
       "<table border=\"1\" class=\"dataframe\">\n",
       "  <thead>\n",
       "    <tr style=\"text-align: right;\">\n",
       "      <th></th>\n",
       "      <th>age</th>\n",
       "      <th>anaemia</th>\n",
       "      <th>creatinine_phosphokinase</th>\n",
       "      <th>diabetes</th>\n",
       "      <th>ejection_fraction</th>\n",
       "      <th>high_blood_pressure</th>\n",
       "      <th>platelets</th>\n",
       "      <th>serum_creatinine</th>\n",
       "      <th>serum_sodium</th>\n",
       "      <th>sex</th>\n",
       "      <th>smoking</th>\n",
       "      <th>time</th>\n",
       "    </tr>\n",
       "  </thead>\n",
       "  <tbody>\n",
       "    <tr>\n",
       "      <th>159</th>\n",
       "      <td>-0.145840</td>\n",
       "      <td>1</td>\n",
       "      <td>-0.448171</td>\n",
       "      <td>0</td>\n",
       "      <td>0.644881</td>\n",
       "      <td>1</td>\n",
       "      <td>1.074678</td>\n",
       "      <td>-0.287871</td>\n",
       "      <td>0.554832</td>\n",
       "      <td>1</td>\n",
       "      <td>1</td>\n",
       "      <td>-0.068027</td>\n",
       "    </tr>\n",
       "    <tr>\n",
       "      <th>183</th>\n",
       "      <td>1.230517</td>\n",
       "      <td>0</td>\n",
       "      <td>-0.477861</td>\n",
       "      <td>0</td>\n",
       "      <td>0.031846</td>\n",
       "      <td>1</td>\n",
       "      <td>-0.370823</td>\n",
       "      <td>1.140017</td>\n",
       "      <td>-0.539130</td>\n",
       "      <td>1</td>\n",
       "      <td>0</td>\n",
       "      <td>0.473218</td>\n",
       "    </tr>\n",
       "    <tr>\n",
       "      <th>169</th>\n",
       "      <td>0.800406</td>\n",
       "      <td>0</td>\n",
       "      <td>0.250532</td>\n",
       "      <td>0</td>\n",
       "      <td>-0.230883</td>\n",
       "      <td>1</td>\n",
       "      <td>0.477623</td>\n",
       "      <td>-0.593847</td>\n",
       "      <td>-0.757922</td>\n",
       "      <td>0</td>\n",
       "      <td>0</td>\n",
       "      <td>0.248799</td>\n",
       "    </tr>\n",
       "    <tr>\n",
       "      <th>161</th>\n",
       "      <td>-1.350153</td>\n",
       "      <td>1</td>\n",
       "      <td>-0.447181</td>\n",
       "      <td>0</td>\n",
       "      <td>-0.230883</td>\n",
       "      <td>0</td>\n",
       "      <td>-0.894556</td>\n",
       "      <td>-0.593847</td>\n",
       "      <td>0.554832</td>\n",
       "      <td>1</td>\n",
       "      <td>1</td>\n",
       "      <td>-0.068027</td>\n",
       "    </tr>\n",
       "    <tr>\n",
       "      <th>83</th>\n",
       "      <td>1.574607</td>\n",
       "      <td>1</td>\n",
       "      <td>-0.521406</td>\n",
       "      <td>0</td>\n",
       "      <td>1.082763</td>\n",
       "      <td>1</td>\n",
       "      <td>-0.915505</td>\n",
       "      <td>0.426073</td>\n",
       "      <td>-0.757922</td>\n",
       "      <td>1</td>\n",
       "      <td>0</td>\n",
       "      <td>-0.635673</td>\n",
       "    </tr>\n",
       "    <tr>\n",
       "      <th>...</th>\n",
       "      <td>...</td>\n",
       "      <td>...</td>\n",
       "      <td>...</td>\n",
       "      <td>...</td>\n",
       "      <td>...</td>\n",
       "      <td>...</td>\n",
       "      <td>...</td>\n",
       "      <td>...</td>\n",
       "      <td>...</td>\n",
       "      <td>...</td>\n",
       "      <td>...</td>\n",
       "      <td>...</td>\n",
       "    </tr>\n",
       "    <tr>\n",
       "      <th>192</th>\n",
       "      <td>-0.920042</td>\n",
       "      <td>1</td>\n",
       "      <td>-0.456088</td>\n",
       "      <td>1</td>\n",
       "      <td>0.206999</td>\n",
       "      <td>0</td>\n",
       "      <td>0.006264</td>\n",
       "      <td>-0.695839</td>\n",
       "      <td>-1.414299</td>\n",
       "      <td>1</td>\n",
       "      <td>0</td>\n",
       "      <td>0.644832</td>\n",
       "    </tr>\n",
       "    <tr>\n",
       "      <th>33</th>\n",
       "      <td>-0.920042</td>\n",
       "      <td>1</td>\n",
       "      <td>-0.418481</td>\n",
       "      <td>1</td>\n",
       "      <td>-0.668765</td>\n",
       "      <td>0</td>\n",
       "      <td>0.446199</td>\n",
       "      <td>-0.185879</td>\n",
       "      <td>0.336040</td>\n",
       "      <td>0</td>\n",
       "      <td>0</td>\n",
       "      <td>-1.282527</td>\n",
       "    </tr>\n",
       "    <tr>\n",
       "      <th>247</th>\n",
       "      <td>0.284271</td>\n",
       "      <td>0</td>\n",
       "      <td>-0.434316</td>\n",
       "      <td>0</td>\n",
       "      <td>-1.106647</td>\n",
       "      <td>0</td>\n",
       "      <td>-0.140381</td>\n",
       "      <td>1.038025</td>\n",
       "      <td>-0.320337</td>\n",
       "      <td>1</td>\n",
       "      <td>0</td>\n",
       "      <td>1.159675</td>\n",
       "    </tr>\n",
       "    <tr>\n",
       "      <th>34</th>\n",
       "      <td>0.370294</td>\n",
       "      <td>0</td>\n",
       "      <td>-0.482809</td>\n",
       "      <td>1</td>\n",
       "      <td>1.082763</td>\n",
       "      <td>1</td>\n",
       "      <td>-0.747911</td>\n",
       "      <td>-0.389863</td>\n",
       "      <td>0.773625</td>\n",
       "      <td>1</td>\n",
       "      <td>0</td>\n",
       "      <td>-1.282527</td>\n",
       "    </tr>\n",
       "    <tr>\n",
       "      <th>132</th>\n",
       "      <td>-1.264131</td>\n",
       "      <td>0</td>\n",
       "      <td>0.135731</td>\n",
       "      <td>0</td>\n",
       "      <td>0.206999</td>\n",
       "      <td>1</td>\n",
       "      <td>0.041438</td>\n",
       "      <td>-0.206278</td>\n",
       "      <td>0.117248</td>\n",
       "      <td>0</td>\n",
       "      <td>0</td>\n",
       "      <td>-0.252842</td>\n",
       "    </tr>\n",
       "  </tbody>\n",
       "</table>\n",
       "<p>209 rows × 12 columns</p>\n",
       "</div>"
      ],
      "text/plain": [
       "          age  anaemia  creatinine_phosphokinase  diabetes  ejection_fraction  \\\n",
       "159 -0.145840        1                 -0.448171         0           0.644881   \n",
       "183  1.230517        0                 -0.477861         0           0.031846   \n",
       "169  0.800406        0                  0.250532         0          -0.230883   \n",
       "161 -1.350153        1                 -0.447181         0          -0.230883   \n",
       "83   1.574607        1                 -0.521406         0           1.082763   \n",
       "..        ...      ...                       ...       ...                ...   \n",
       "192 -0.920042        1                 -0.456088         1           0.206999   \n",
       "33  -0.920042        1                 -0.418481         1          -0.668765   \n",
       "247  0.284271        0                 -0.434316         0          -1.106647   \n",
       "34   0.370294        0                 -0.482809         1           1.082763   \n",
       "132 -1.264131        0                  0.135731         0           0.206999   \n",
       "\n",
       "     high_blood_pressure  platelets  serum_creatinine  serum_sodium  sex  \\\n",
       "159                    1   1.074678         -0.287871      0.554832    1   \n",
       "183                    1  -0.370823          1.140017     -0.539130    1   \n",
       "169                    1   0.477623         -0.593847     -0.757922    0   \n",
       "161                    0  -0.894556         -0.593847      0.554832    1   \n",
       "83                     1  -0.915505          0.426073     -0.757922    1   \n",
       "..                   ...        ...               ...           ...  ...   \n",
       "192                    0   0.006264         -0.695839     -1.414299    1   \n",
       "33                     0   0.446199         -0.185879      0.336040    0   \n",
       "247                    0  -0.140381          1.038025     -0.320337    1   \n",
       "34                     1  -0.747911         -0.389863      0.773625    1   \n",
       "132                    1   0.041438         -0.206278      0.117248    0   \n",
       "\n",
       "     smoking      time  \n",
       "159        1 -0.068027  \n",
       "183        0  0.473218  \n",
       "169        0  0.248799  \n",
       "161        1 -0.068027  \n",
       "83         0 -0.635673  \n",
       "..       ...       ...  \n",
       "192        0  0.644832  \n",
       "33         0 -1.282527  \n",
       "247        0  1.159675  \n",
       "34         0 -1.282527  \n",
       "132        0 -0.252842  \n",
       "\n",
       "[209 rows x 12 columns]"
      ]
     },
     "execution_count": 44,
     "metadata": {},
     "output_type": "execute_result"
    }
   ],
   "source": [
    "x_train"
   ]
  }
 ],
 "metadata": {
  "kernelspec": {
   "display_name": "Python 3",
   "language": "python",
   "name": "python3"
  },
  "language_info": {
   "codemirror_mode": {
    "name": "ipython",
    "version": 3
   },
   "file_extension": ".py",
   "mimetype": "text/x-python",
   "name": "python",
   "nbconvert_exporter": "python",
   "pygments_lexer": "ipython3",
   "version": "3.7.9"
  },
  "papermill": {
   "default_parameters": {},
   "duration": 108.557403,
   "end_time": "2021-04-05T02:37:23.401605",
   "environment_variables": {},
   "exception": null,
   "input_path": "__notebook__.ipynb",
   "output_path": "__notebook__.ipynb",
   "parameters": {},
   "start_time": "2021-04-05T02:35:34.844202",
   "version": "2.2.2"
  }
 },
 "nbformat": 4,
 "nbformat_minor": 4
}
